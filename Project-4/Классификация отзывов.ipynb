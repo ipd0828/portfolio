{
 "cells": [
  {
   "cell_type": "markdown",
   "metadata": {
    "id": "IFsIdTJYQFXp",
    "toc": true
   },
   "source": [
    "<h1>Содержание<span class=\"tocSkip\"></span></h1>\n",
    "<div class=\"toc\"><ul class=\"toc-item\"><li><span><a href=\"#Подготовка\" data-toc-modified-id=\"Подготовка-1\"><span class=\"toc-item-num\">1&nbsp;&nbsp;</span>Подготовка</a></span><ul class=\"toc-item\"><li><span><a href=\"#Промежуточный-вывод:\" data-toc-modified-id=\"Промежуточный-вывод:-1.1\"><span class=\"toc-item-num\">1.1&nbsp;&nbsp;</span>Промежуточный вывод:</a></span></li></ul></li><li><span><a href=\"#Обучение\" data-toc-modified-id=\"Обучение-2\"><span class=\"toc-item-num\">2&nbsp;&nbsp;</span>Обучение</a></span><ul class=\"toc-item\"><li><span><a href=\"#Обучим-Логистическую-Регрессию\" data-toc-modified-id=\"Обучим-Логистическую-Регрессию-2.1\"><span class=\"toc-item-num\">2.1&nbsp;&nbsp;</span>Обучим Логистическую Регрессию</a></span></li><li><span><a href=\"#Обучим-Случайный-лес-кроссвалидацией-по-сетке-гиперпараметров\" data-toc-modified-id=\"Обучим-Случайный-лес-кроссвалидацией-по-сетке-гиперпараметров-2.2\"><span class=\"toc-item-num\">2.2&nbsp;&nbsp;</span>Обучим Случайный лес кроссвалидацией по сетке гиперпараметров</a></span></li><li><span><a href=\"#Обучим-модель-CatBoost\" data-toc-modified-id=\"Обучим-модель-CatBoost-2.3\"><span class=\"toc-item-num\">2.3&nbsp;&nbsp;</span>Обучим модель CatBoost</a></span></li><li><span><a href=\"#Проверим-на-тесте-работу-лучшей-модели---Случайный-лес,-CatBoost-возможно-я-недостаточно-настроил,-оказался-незначительно-хуже\" data-toc-modified-id=\"Проверим-на-тесте-работу-лучшей-модели---Случайный-лес,-CatBoost-возможно-я-недостаточно-настроил,-оказался-незначительно-хуже-2.4\"><span class=\"toc-item-num\">2.4&nbsp;&nbsp;</span>Проверим на тесте работу лучшей модели - Случайный лес, CatBoost возможно я недостаточно настроил, оказался незначительно хуже</a></span></li></ul></li><li><span><a href=\"#Выводы\" data-toc-modified-id=\"Выводы-3\"><span class=\"toc-item-num\">3&nbsp;&nbsp;</span>Выводы</a></span></li></ul></div>"
   ]
  },
  {
   "cell_type": "markdown",
   "metadata": {
    "id": "6JBFyxnIQFXp"
   },
   "source": [
    "# Проект для «Викишоп»"
   ]
  },
  {
   "cell_type": "markdown",
   "metadata": {
    "id": "B0iefVWSQFXp"
   },
   "source": [
    "Интернет-магазин «Викишоп» запускает новый сервис. Теперь пользователи могут редактировать и дополнять описания товаров, как в вики-сообществах. То есть клиенты предлагают свои правки и комментируют изменения других. Магазину нужен инструмент, который будет искать токсичные комментарии и отправлять их на модерацию. \n",
    "\n",
    "Обучите модель классифицировать комментарии на позитивные и негативные. В вашем распоряжении набор данных с разметкой о токсичности правок.\n",
    "\n",
    "Постройте модель со значением метрики качества *F1* не меньше 0.75. \n",
    "\n",
    "**Инструкция по выполнению проекта**\n",
    "\n",
    "1. Загрузите и подготовьте данные.\n",
    "2. Обучите разные модели. \n",
    "3. Сделайте выводы.\n",
    "\n",
    "Для выполнения проекта применять *BERT* необязательно, но вы можете попробовать.\n",
    "\n",
    "**Описание данных**\n",
    "\n",
    "Данные находятся в файле `toxic_comments.csv`. Столбец *text* в нём содержит текст комментария, а *toxic* — целевой признак."
   ]
  },
  {
   "cell_type": "markdown",
   "metadata": {
    "id": "i6Wh_1HgQFXq"
   },
   "source": [
    "## Подготовка"
   ]
  },
  {
   "cell_type": "code",
   "execution_count": 5,
   "metadata": {
    "id": "ijJPS6jhQFXq"
   },
   "outputs": [],
   "source": [
    "!pip install -q transformers catboost"
   ]
  },
  {
   "cell_type": "code",
   "execution_count": 6,
   "metadata": {
    "id": "t3OilWBcQFXq"
   },
   "outputs": [],
   "source": [
    "# Импортируем необходимые библиотеки\n",
    "import pandas as pd\n",
    "from sklearn.linear_model import LogisticRegression\n",
    "from sklearn.ensemble import RandomForestClassifier\n",
    "from sklearn.pipeline import Pipeline\n",
    "from sklearn.pipeline import make_pipeline\n",
    "from sklearn.preprocessing import StandardScaler\n",
    "from sklearn.model_selection import train_test_split\n",
    "from sklearn.metrics import (\n",
    "    mean_squared_error,\n",
    "    mean_absolute_error,\n",
    "    f1_score)\n",
    "from sklearn.metrics import make_scorer\n",
    "from sklearn.model_selection import cross_val_score\n",
    "from sklearn.model_selection import GridSearchCV\n",
    "from tqdm import tqdm\n",
    "import numpy as np\n",
    "import matplotlib.pyplot as plt \n",
    "import os\n",
    "import torch\n",
    "import transformers\n",
    "from tqdm import notebook\n",
    "from sklearn.metrics import accuracy_score\n",
    "from transformers import AutoModel, AutoTokenizer \n",
    "from catboost import CatBoostClassifier"
   ]
  },
  {
   "cell_type": "code",
   "execution_count": 7,
   "metadata": {
    "id": "j9KyYCEPQFXr"
   },
   "outputs": [],
   "source": [
    "# Загрузим данные:\n",
    "\n",
    "df = pd.read_csv('https://code.s3.yandex.net/datasets/toxic_comments.csv')"
   ]
  },
  {
   "cell_type": "code",
   "execution_count": 8,
   "metadata": {
    "colab": {
     "base_uri": "https://localhost:8080/"
    },
    "id": "24gWJKgQQFXr",
    "outputId": "1b0efcba-c3ca-4e30-e3be-97ae069b85a1"
   },
   "outputs": [
    {
     "name": "stdout",
     "output_type": "stream",
     "text": [
      "<class 'pandas.core.frame.DataFrame'>\n",
      "RangeIndex: 159292 entries, 0 to 159291\n",
      "Data columns (total 3 columns):\n",
      " #   Column      Non-Null Count   Dtype \n",
      "---  ------      --------------   ----- \n",
      " 0   Unnamed: 0  159292 non-null  int64 \n",
      " 1   text        159292 non-null  object\n",
      " 2   toxic       159292 non-null  int64 \n",
      "dtypes: int64(2), object(1)\n",
      "memory usage: 3.6+ MB\n"
     ]
    }
   ],
   "source": [
    "# Посмотрим общую информацию о Дата Фрейме\n",
    "df.info()"
   ]
  },
  {
   "cell_type": "code",
   "execution_count": 9,
   "metadata": {
    "colab": {
     "base_uri": "https://localhost:8080/",
     "height": 206
    },
    "id": "zhttLbQQQFXt",
    "outputId": "b4e7ebfc-4cfc-4f18-e708-0aad509ee3a9",
    "scrolled": true
   },
   "outputs": [
    {
     "data": {
      "text/html": [
       "\n",
       "  <div id=\"df-7d2d920f-7d56-4e34-945e-15987ac52c23\">\n",
       "    <div class=\"colab-df-container\">\n",
       "      <div>\n",
       "<style scoped>\n",
       "    .dataframe tbody tr th:only-of-type {\n",
       "        vertical-align: middle;\n",
       "    }\n",
       "\n",
       "    .dataframe tbody tr th {\n",
       "        vertical-align: top;\n",
       "    }\n",
       "\n",
       "    .dataframe thead th {\n",
       "        text-align: right;\n",
       "    }\n",
       "</style>\n",
       "<table border=\"1\" class=\"dataframe\">\n",
       "  <thead>\n",
       "    <tr style=\"text-align: right;\">\n",
       "      <th></th>\n",
       "      <th>Unnamed: 0</th>\n",
       "      <th>text</th>\n",
       "      <th>toxic</th>\n",
       "    </tr>\n",
       "  </thead>\n",
       "  <tbody>\n",
       "    <tr>\n",
       "      <th>0</th>\n",
       "      <td>0</td>\n",
       "      <td>Explanation\\nWhy the edits made under my usern...</td>\n",
       "      <td>0</td>\n",
       "    </tr>\n",
       "    <tr>\n",
       "      <th>1</th>\n",
       "      <td>1</td>\n",
       "      <td>D'aww! He matches this background colour I'm s...</td>\n",
       "      <td>0</td>\n",
       "    </tr>\n",
       "    <tr>\n",
       "      <th>2</th>\n",
       "      <td>2</td>\n",
       "      <td>Hey man, I'm really not trying to edit war. It...</td>\n",
       "      <td>0</td>\n",
       "    </tr>\n",
       "    <tr>\n",
       "      <th>3</th>\n",
       "      <td>3</td>\n",
       "      <td>\"\\nMore\\nI can't make any real suggestions on ...</td>\n",
       "      <td>0</td>\n",
       "    </tr>\n",
       "    <tr>\n",
       "      <th>4</th>\n",
       "      <td>4</td>\n",
       "      <td>You, sir, are my hero. Any chance you remember...</td>\n",
       "      <td>0</td>\n",
       "    </tr>\n",
       "  </tbody>\n",
       "</table>\n",
       "</div>\n",
       "      <button class=\"colab-df-convert\" onclick=\"convertToInteractive('df-7d2d920f-7d56-4e34-945e-15987ac52c23')\"\n",
       "              title=\"Convert this dataframe to an interactive table.\"\n",
       "              style=\"display:none;\">\n",
       "        \n",
       "  <svg xmlns=\"http://www.w3.org/2000/svg\" height=\"24px\"viewBox=\"0 0 24 24\"\n",
       "       width=\"24px\">\n",
       "    <path d=\"M0 0h24v24H0V0z\" fill=\"none\"/>\n",
       "    <path d=\"M18.56 5.44l.94 2.06.94-2.06 2.06-.94-2.06-.94-.94-2.06-.94 2.06-2.06.94zm-11 1L8.5 8.5l.94-2.06 2.06-.94-2.06-.94L8.5 2.5l-.94 2.06-2.06.94zm10 10l.94 2.06.94-2.06 2.06-.94-2.06-.94-.94-2.06-.94 2.06-2.06.94z\"/><path d=\"M17.41 7.96l-1.37-1.37c-.4-.4-.92-.59-1.43-.59-.52 0-1.04.2-1.43.59L10.3 9.45l-7.72 7.72c-.78.78-.78 2.05 0 2.83L4 21.41c.39.39.9.59 1.41.59.51 0 1.02-.2 1.41-.59l7.78-7.78 2.81-2.81c.8-.78.8-2.07 0-2.86zM5.41 20L4 18.59l7.72-7.72 1.47 1.35L5.41 20z\"/>\n",
       "  </svg>\n",
       "      </button>\n",
       "      \n",
       "  <style>\n",
       "    .colab-df-container {\n",
       "      display:flex;\n",
       "      flex-wrap:wrap;\n",
       "      gap: 12px;\n",
       "    }\n",
       "\n",
       "    .colab-df-convert {\n",
       "      background-color: #E8F0FE;\n",
       "      border: none;\n",
       "      border-radius: 50%;\n",
       "      cursor: pointer;\n",
       "      display: none;\n",
       "      fill: #1967D2;\n",
       "      height: 32px;\n",
       "      padding: 0 0 0 0;\n",
       "      width: 32px;\n",
       "    }\n",
       "\n",
       "    .colab-df-convert:hover {\n",
       "      background-color: #E2EBFA;\n",
       "      box-shadow: 0px 1px 2px rgba(60, 64, 67, 0.3), 0px 1px 3px 1px rgba(60, 64, 67, 0.15);\n",
       "      fill: #174EA6;\n",
       "    }\n",
       "\n",
       "    [theme=dark] .colab-df-convert {\n",
       "      background-color: #3B4455;\n",
       "      fill: #D2E3FC;\n",
       "    }\n",
       "\n",
       "    [theme=dark] .colab-df-convert:hover {\n",
       "      background-color: #434B5C;\n",
       "      box-shadow: 0px 1px 3px 1px rgba(0, 0, 0, 0.15);\n",
       "      filter: drop-shadow(0px 1px 2px rgba(0, 0, 0, 0.3));\n",
       "      fill: #FFFFFF;\n",
       "    }\n",
       "  </style>\n",
       "\n",
       "      <script>\n",
       "        const buttonEl =\n",
       "          document.querySelector('#df-7d2d920f-7d56-4e34-945e-15987ac52c23 button.colab-df-convert');\n",
       "        buttonEl.style.display =\n",
       "          google.colab.kernel.accessAllowed ? 'block' : 'none';\n",
       "\n",
       "        async function convertToInteractive(key) {\n",
       "          const element = document.querySelector('#df-7d2d920f-7d56-4e34-945e-15987ac52c23');\n",
       "          const dataTable =\n",
       "            await google.colab.kernel.invokeFunction('convertToInteractive',\n",
       "                                                     [key], {});\n",
       "          if (!dataTable) return;\n",
       "\n",
       "          const docLinkHtml = 'Like what you see? Visit the ' +\n",
       "            '<a target=\"_blank\" href=https://colab.research.google.com/notebooks/data_table.ipynb>data table notebook</a>'\n",
       "            + ' to learn more about interactive tables.';\n",
       "          element.innerHTML = '';\n",
       "          dataTable['output_type'] = 'display_data';\n",
       "          await google.colab.output.renderOutput(dataTable, element);\n",
       "          const docLink = document.createElement('div');\n",
       "          docLink.innerHTML = docLinkHtml;\n",
       "          element.appendChild(docLink);\n",
       "        }\n",
       "      </script>\n",
       "    </div>\n",
       "  </div>\n",
       "  "
      ],
      "text/plain": [
       "   Unnamed: 0                                               text  toxic\n",
       "0           0  Explanation\\nWhy the edits made under my usern...      0\n",
       "1           1  D'aww! He matches this background colour I'm s...      0\n",
       "2           2  Hey man, I'm really not trying to edit war. It...      0\n",
       "3           3  \"\\nMore\\nI can't make any real suggestions on ...      0\n",
       "4           4  You, sir, are my hero. Any chance you remember...      0"
      ]
     },
     "execution_count": 9,
     "metadata": {},
     "output_type": "execute_result"
    }
   ],
   "source": [
    "# Посмотрим первые 5 строк Дата Фрейма\n",
    "df.head()"
   ]
  },
  {
   "cell_type": "code",
   "execution_count": 10,
   "metadata": {
    "colab": {
     "base_uri": "https://localhost:8080/"
    },
    "id": "VUVTDdaVQFXt",
    "outputId": "92249c9e-307f-4b9d-d251-12fc76ceb3e9"
   },
   "outputs": [
    {
     "data": {
      "text/plain": [
       "0"
      ]
     },
     "execution_count": 10,
     "metadata": {},
     "output_type": "execute_result"
    }
   ],
   "source": [
    "# Посмотрим на наличие дубликатов строк\n",
    "df.duplicated().sum()"
   ]
  },
  {
   "cell_type": "code",
   "execution_count": 11,
   "metadata": {
    "id": "G5e51bX2QFXt"
   },
   "outputs": [],
   "source": [
    "# Добавим столбец о длинне сообщений\n",
    "df['text_len'] = df['text'].apply(lambda x:len(x))"
   ]
  },
  {
   "cell_type": "code",
   "execution_count": 12,
   "metadata": {
    "colab": {
     "base_uri": "https://localhost:8080/",
     "height": 472
    },
    "id": "Vx1Dty-yQFXt",
    "outputId": "74f1683f-b29b-4889-e5d8-c672908ddf28"
   },
   "outputs": [
    {
     "data": {
      "image/png": "[encoded data removed]",
      "text/plain": [
       "<Figure size 640x480 with 1 Axes>"
      ]
     },
     "metadata": {},
     "output_type": "display_data"
    }
   ],
   "source": [
    "# Посмотрим на гистограмму распределения значений длины сообщений\n",
    "df['text_len'].hist(bins=100)\n",
    "plt.title(\"Распределение сообщений по длинне (количеству символов)\")\n",
    "plt.xlabel('Длинна сообщения')\n",
    "plt.ylabel('Количество сообщений')\n",
    "plt.show();  "
   ]
  },
  {
   "cell_type": "code",
   "execution_count": 13,
   "metadata": {
    "colab": {
     "base_uri": "https://localhost:8080/"
    },
    "id": "iYHy8bXqQFXt",
    "outputId": "1dc0a713-d007-4e9b-e30f-904a7d011168"
   },
   "outputs": [
    {
     "data": {
      "text/plain": [
       "count    159292.000000\n",
       "mean        393.691303\n",
       "std         590.111825\n",
       "min           5.000000\n",
       "25%          95.000000\n",
       "50%         205.000000\n",
       "75%         435.000000\n",
       "max        5000.000000\n",
       "Name: text_len, dtype: float64"
      ]
     },
     "execution_count": 13,
     "metadata": {},
     "output_type": "execute_result"
    }
   ],
   "source": [
    "# Описание длинны\n",
    "df['text_len'].describe()"
   ]
  },
  {
   "cell_type": "code",
   "execution_count": 14,
   "metadata": {
    "id": "x-HUfGLNQFXt"
   },
   "outputs": [],
   "source": [
    "# Удалим лишний столбец\n",
    "df = df.drop(['text_len'], axis=1)"
   ]
  },
  {
   "cell_type": "code",
   "execution_count": 15,
   "metadata": {
    "id": "Lfi6hKbEQFXu"
   },
   "outputs": [],
   "source": [
    "df = df.drop('Unnamed: 0', axis=1).reset_index(drop='first')"
   ]
  },
  {
   "cell_type": "code",
   "execution_count": 16,
   "metadata": {
    "colab": {
     "base_uri": "https://localhost:8080/"
    },
    "id": "ZyZuYVqxQFXu",
    "outputId": "4eea9982-7199-4c94-de75-b105a3243bda"
   },
   "outputs": [
    {
     "name": "stdout",
     "output_type": "stream",
     "text": [
      "<class 'pandas.core.frame.DataFrame'>\n",
      "RangeIndex: 159292 entries, 0 to 159291\n",
      "Data columns (total 2 columns):\n",
      " #   Column  Non-Null Count   Dtype \n",
      "---  ------  --------------   ----- \n",
      " 0   text    159292 non-null  object\n",
      " 1   toxic   159292 non-null  int64 \n",
      "dtypes: int64(1), object(1)\n",
      "memory usage: 2.4+ MB\n"
     ]
    }
   ],
   "source": [
    "# Проверим удаление\n",
    "df.info()"
   ]
  },
  {
   "cell_type": "code",
   "execution_count": 17,
   "metadata": {
    "colab": {
     "base_uri": "https://localhost:8080/"
    },
    "id": "X8cJ5yAnQFXu",
    "outputId": "6e62a4b8-ec5e-4a22-feb1-3192bc452287"
   },
   "outputs": [
    {
     "data": {
      "text/plain": [
       "0.10161213369158527"
      ]
     },
     "execution_count": 17,
     "metadata": {},
     "output_type": "execute_result"
    }
   ],
   "source": [
    "# Посмотрим на баланс классов\n",
    "df['toxic'].mean()"
   ]
  },
  {
   "cell_type": "code",
   "execution_count": 18,
   "metadata": {
    "colab": {
     "base_uri": "https://localhost:8080/"
    },
    "id": "hAS0GlApQFXu",
    "outputId": "d0fe0573-70f7-4e78-f2a6-8ac7b44ed63b"
   },
   "outputs": [
    {
     "data": {
      "text/plain": [
       "0    143106\n",
       "1     16186\n",
       "Name: toxic, dtype: int64"
      ]
     },
     "execution_count": 18,
     "metadata": {},
     "output_type": "execute_result"
    }
   ],
   "source": [
    "# Посмотрим на баланс классов\n",
    "df['toxic'].value_counts()"
   ]
  },
  {
   "cell_type": "code",
   "execution_count": 19,
   "metadata": {
    "colab": {
     "base_uri": "https://localhost:8080/"
    },
    "id": "DjBqA_UtQFXu",
    "outputId": "2e54540f-028e-4c2f-f3a7-5f4b1f448791"
   },
   "outputs": [
    {
     "data": {
      "text/plain": [
       "text     0\n",
       "toxic    0\n",
       "dtype: int64"
      ]
     },
     "execution_count": 19,
     "metadata": {},
     "output_type": "execute_result"
    }
   ],
   "source": [
    "# В Google Colab появлялся пропуск в ДатаФрейме\n",
    "df = df.dropna().reset_index(drop='first')\n",
    "df.isna().sum()"
   ]
  },
  {
   "cell_type": "code",
   "execution_count": 20,
   "metadata": {
    "colab": {
     "base_uri": "https://localhost:8080/",
     "height": 252,
     "referenced_widgets": [
      "27abde319a96486d9760c329bb71783d",
      "a6ba462c54924647b048ef195370f0b8",
      "f7710df22fa14f67a80d2a28bbffa109",
      "51d9cf18cd1c4ee3a69dab54506788b2",
      "d678e7e16beb4889abffabdb5bf2239e",
      "8a19e6c58b7d4830b9edbf3675f87ad1",
      "07b5e7ea11844e24ab507e6445d1c86e",
      "c11756296812424d9639b894ebf729b6",
      "cfdb14b352b349a5b4b0b4a6b63139ae",
      "22e55cdd7a19432da8d5460588226176",
      "38728b4df31a4765abf3019cd50f3bcb",
      "c14e6e50a9fc4b698b6a27770618269c",
      "099e5394e746429595fa3712c60ffe0a",
      "09b177d16f0940bc99f3558e0b809ac5",
      "acc047730c16410fa50ed0c1a386875f",
      "1552f41f632441f18cdc912958093419",
      "4f39add4c8294215b8093dfaa96c9126",
      "e2015b2d5e76423b988fb5a9a398a855",
      "01f459c1e73147408ea033b9c1bf8375",
      "827817c80cd9495484a1ddde7569511d",
      "aef28af570ed49c3b6dcf25ce05c6983",
      "e94e2c24f59f417fa2f2b959edc4be8a",
      "abd56a2a05c947ebafbebeb4f1d1d4b7",
      "21ffe2b41c144eceb81731a38813eca3",
      "babdc5900b324af9844159094a02ed22",
      "a7b844e958f24013b6c0cc69b3c682de",
      "ffac9b24f812471e9a2f10af71469b0c",
      "edee716348564e3683896dc5e7979018",
      "11967e43a90e41afb7621141bf19ac7e",
      "e8cd9d0e982348e6afeb6da24adba323",
      "ddc58bf3f40e436c91b46d60deea8115",
      "7eeb1801ec9e4bc09552ca33b843c997",
      "b90cdf56afe7444fb56b74ff3d37c284",
      "f8dc8f59f0fa4566820ff9458b1fb1ea",
      "ebf02003f899469fa1f3c58e8bfb8428",
      "35218a2cc3fb4723a888f1b41e61be07",
      "0d89258f90b643188184451751a84e1e",
      "53cc75a7754647a3abeb6bf030819098",
      "98d2ad8b48f44b638bb4581f21364393",
      "cb95c3f1c8b54390bf7762aa27b24c3b",
      "798d519a28da493aa3b03386c2fda08d",
      "209f7ec7dc8e4b53863cf0e05fdbca71",
      "df40cfbac2394a78952ab50363b1935c",
      "c4ca4e39f2164074b2fbb95e2599b9a8",
      "5523034f945848c88105c66bbf499826",
      "1fd750dada7843c79caf9f97f45d1725",
      "0a6690366a014d2ea9089a5ce68241d7",
      "29645b9bd70740eb8ecfc82257708ecb",
      "442dcb1c6ad54a68996eb629c6b2875d",
      "6ef0c707b7624910b69fa1e8d3f7ca61",
      "66943d11df8c451a9566356b56ef2a25",
      "ee7ac2349f164ba1af34f3aba322637d",
      "07b97eacdff54e2abd421a30242b391b",
      "b7c79e08b2c54edfb57d576f12f5fece",
      "6fadfda064234540b379a41d664d4d74"
     ]
    },
    "id": "_a1yRb2gQFXv",
    "outputId": "2f795022-63d9-4cff-9903-745fd9c20595",
    "scrolled": false
   },
   "outputs": [
    {
     "data": {
      "application/vnd.jupyter.widget-view+json": {
       "model_id": "27abde319a96486d9760c329bb71783d",
       "version_major": 2,
       "version_minor": 0
      },
      "text/plain": [
       "Downloading (…)lve/main/config.json:   0%|          | 0.00/811 [00:00<?, ?B/s]"
      ]
     },
     "metadata": {},
     "output_type": "display_data"
    },
    {
     "data": {
      "application/vnd.jupyter.widget-view+json": {
       "model_id": "c14e6e50a9fc4b698b6a27770618269c",
       "version_major": 2,
       "version_minor": 0
      },
      "text/plain": [
       "Downloading pytorch_model.bin:   0%|          | 0.00/438M [00:00<?, ?B/s]"
      ]
     },
     "metadata": {},
     "output_type": "display_data"
    },
    {
     "name": "stderr",
     "output_type": "stream",
     "text": [
      "Some weights of the model checkpoint at unitary/toxic-bert were not used when initializing BertModel: ['classifier.weight', 'classifier.bias']\n",
      "- This IS expected if you are initializing BertModel from the checkpoint of a model trained on another task or with another architecture (e.g. initializing a BertForSequenceClassification model from a BertForPreTraining model).\n",
      "- This IS NOT expected if you are initializing BertModel from the checkpoint of a model that you expect to be exactly identical (initializing a BertForSequenceClassification model from a BertForSequenceClassification model).\n"
     ]
    },
    {
     "data": {
      "application/vnd.jupyter.widget-view+json": {
       "model_id": "abd56a2a05c947ebafbebeb4f1d1d4b7",
       "version_major": 2,
       "version_minor": 0
      },
      "text/plain": [
       "Downloading (…)okenizer_config.json:   0%|          | 0.00/174 [00:00<?, ?B/s]"
      ]
     },
     "metadata": {},
     "output_type": "display_data"
    },
    {
     "data": {
      "application/vnd.jupyter.widget-view+json": {
       "model_id": "f8dc8f59f0fa4566820ff9458b1fb1ea",
       "version_major": 2,
       "version_minor": 0
      },
      "text/plain": [
       "Downloading (…)solve/main/vocab.txt:   0%|          | 0.00/232k [00:00<?, ?B/s]"
      ]
     },
     "metadata": {},
     "output_type": "display_data"
    },
    {
     "data": {
      "application/vnd.jupyter.widget-view+json": {
       "model_id": "5523034f945848c88105c66bbf499826",
       "version_major": 2,
       "version_minor": 0
      },
      "text/plain": [
       "Downloading (…)cial_tokens_map.json:   0%|          | 0.00/112 [00:00<?, ?B/s]"
      ]
     },
     "metadata": {},
     "output_type": "display_data"
    }
   ],
   "source": [
    "# Загрузим модель БЕРТ обученную на токсиных текстах\n",
    "\n",
    "# Define the model repo\n",
    "model_name = \"unitary/toxic-bert\" \n",
    "\n",
    "# Download pytorch model\n",
    "model = AutoModel.from_pretrained(model_name)\n",
    "tokenizer = AutoTokenizer.from_pretrained(model_name)"
   ]
  },
  {
   "cell_type": "markdown",
   "metadata": {
    "id": "DLcgl4edQFXv"
   },
   "source": [
    "<b>Далее не запускал код т.к. это затратно по времени, проверял в Google Colab</b>"
   ]
  },
  {
   "cell_type": "code",
   "execution_count": 21,
   "metadata": {
    "colab": {
     "base_uri": "https://localhost:8080/"
    },
    "id": "c8NPDeMBQFXv",
    "outputId": "1f488aee-8663-4a68-fba8-1c9c04008aa0"
   },
   "outputs": [
    {
     "name": "stdout",
     "output_type": "stream",
     "text": [
      "(600, 2)\n",
      "Баланс классов: 0.10166666666666667\n"
     ]
    }
   ],
   "source": [
    "# Сделаем выборку на 600 примеров\n",
    "_, df_sample = train_test_split(df,\n",
    " test_size=600,\n",
    " stratify=df['toxic'],\n",
    " random_state=12345)\n",
    " \n",
    "print(df_sample.shape)\n",
    "print('Баланс классов:', df_sample['toxic'].mean())"
   ]
  },
  {
   "cell_type": "code",
   "execution_count": 22,
   "metadata": {
    "colab": {
     "base_uri": "https://localhost:8080/",
     "height": 206
    },
    "id": "XcXGvFliQFXv",
    "outputId": "f9f66683-b6d6-4b3b-ceb7-ad47fa942315"
   },
   "outputs": [
    {
     "data": {
      "text/html": [
       "\n",
       "  <div id=\"df-3f72d711-c552-4c1f-b64e-b1a29bbe0196\">\n",
       "    <div class=\"colab-df-container\">\n",
       "      <div>\n",
       "<style scoped>\n",
       "    .dataframe tbody tr th:only-of-type {\n",
       "        vertical-align: middle;\n",
       "    }\n",
       "\n",
       "    .dataframe tbody tr th {\n",
       "        vertical-align: top;\n",
       "    }\n",
       "\n",
       "    .dataframe thead th {\n",
       "        text-align: right;\n",
       "    }\n",
       "</style>\n",
       "<table border=\"1\" class=\"dataframe\">\n",
       "  <thead>\n",
       "    <tr style=\"text-align: right;\">\n",
       "      <th></th>\n",
       "      <th>text</th>\n",
       "      <th>toxic</th>\n",
       "    </tr>\n",
       "  </thead>\n",
       "  <tbody>\n",
       "    <tr>\n",
       "      <th>33057</th>\n",
       "      <td>I can't believe that you have yet to object to...</td>\n",
       "      <td>0</td>\n",
       "    </tr>\n",
       "    <tr>\n",
       "      <th>16309</th>\n",
       "      <td>Complaint posted on Wikipedia:Administrators' ...</td>\n",
       "      <td>0</td>\n",
       "    </tr>\n",
       "    <tr>\n",
       "      <th>148418</th>\n",
       "      <td>Well \\n\\nThanks for your well-pointed assertio...</td>\n",
       "      <td>0</td>\n",
       "    </tr>\n",
       "    <tr>\n",
       "      <th>32744</th>\n",
       "      <td>America \\n\\nThey have Saturday morning cartoon...</td>\n",
       "      <td>0</td>\n",
       "    </tr>\n",
       "    <tr>\n",
       "      <th>35549</th>\n",
       "      <td>From the third party PoV - they'd be peeved th...</td>\n",
       "      <td>0</td>\n",
       "    </tr>\n",
       "  </tbody>\n",
       "</table>\n",
       "</div>\n",
       "      <button class=\"colab-df-convert\" onclick=\"convertToInteractive('df-3f72d711-c552-4c1f-b64e-b1a29bbe0196')\"\n",
       "              title=\"Convert this dataframe to an interactive table.\"\n",
       "              style=\"display:none;\">\n",
       "        \n",
       "  <svg xmlns=\"http://www.w3.org/2000/svg\" height=\"24px\"viewBox=\"0 0 24 24\"\n",
       "       width=\"24px\">\n",
       "    <path d=\"M0 0h24v24H0V0z\" fill=\"none\"/>\n",
       "    <path d=\"M18.56 5.44l.94 2.06.94-2.06 2.06-.94-2.06-.94-.94-2.06-.94 2.06-2.06.94zm-11 1L8.5 8.5l.94-2.06 2.06-.94-2.06-.94L8.5 2.5l-.94 2.06-2.06.94zm10 10l.94 2.06.94-2.06 2.06-.94-2.06-.94-.94-2.06-.94 2.06-2.06.94z\"/><path d=\"M17.41 7.96l-1.37-1.37c-.4-.4-.92-.59-1.43-.59-.52 0-1.04.2-1.43.59L10.3 9.45l-7.72 7.72c-.78.78-.78 2.05 0 2.83L4 21.41c.39.39.9.59 1.41.59.51 0 1.02-.2 1.41-.59l7.78-7.78 2.81-2.81c.8-.78.8-2.07 0-2.86zM5.41 20L4 18.59l7.72-7.72 1.47 1.35L5.41 20z\"/>\n",
       "  </svg>\n",
       "      </button>\n",
       "      \n",
       "  <style>\n",
       "    .colab-df-container {\n",
       "      display:flex;\n",
       "      flex-wrap:wrap;\n",
       "      gap: 12px;\n",
       "    }\n",
       "\n",
       "    .colab-df-convert {\n",
       "      background-color: #E8F0FE;\n",
       "      border: none;\n",
       "      border-radius: 50%;\n",
       "      cursor: pointer;\n",
       "      display: none;\n",
       "      fill: #1967D2;\n",
       "      height: 32px;\n",
       "      padding: 0 0 0 0;\n",
       "      width: 32px;\n",
       "    }\n",
       "\n",
       "    .colab-df-convert:hover {\n",
       "      background-color: #E2EBFA;\n",
       "      box-shadow: 0px 1px 2px rgba(60, 64, 67, 0.3), 0px 1px 3px 1px rgba(60, 64, 67, 0.15);\n",
       "      fill: #174EA6;\n",
       "    }\n",
       "\n",
       "    [theme=dark] .colab-df-convert {\n",
       "      background-color: #3B4455;\n",
       "      fill: #D2E3FC;\n",
       "    }\n",
       "\n",
       "    [theme=dark] .colab-df-convert:hover {\n",
       "      background-color: #434B5C;\n",
       "      box-shadow: 0px 1px 3px 1px rgba(0, 0, 0, 0.15);\n",
       "      filter: drop-shadow(0px 1px 2px rgba(0, 0, 0, 0.3));\n",
       "      fill: #FFFFFF;\n",
       "    }\n",
       "  </style>\n",
       "\n",
       "      <script>\n",
       "        const buttonEl =\n",
       "          document.querySelector('#df-3f72d711-c552-4c1f-b64e-b1a29bbe0196 button.colab-df-convert');\n",
       "        buttonEl.style.display =\n",
       "          google.colab.kernel.accessAllowed ? 'block' : 'none';\n",
       "\n",
       "        async function convertToInteractive(key) {\n",
       "          const element = document.querySelector('#df-3f72d711-c552-4c1f-b64e-b1a29bbe0196');\n",
       "          const dataTable =\n",
       "            await google.colab.kernel.invokeFunction('convertToInteractive',\n",
       "                                                     [key], {});\n",
       "          if (!dataTable) return;\n",
       "\n",
       "          const docLinkHtml = 'Like what you see? Visit the ' +\n",
       "            '<a target=\"_blank\" href=https://colab.research.google.com/notebooks/data_table.ipynb>data table notebook</a>'\n",
       "            + ' to learn more about interactive tables.';\n",
       "          element.innerHTML = '';\n",
       "          dataTable['output_type'] = 'display_data';\n",
       "          await google.colab.output.renderOutput(dataTable, element);\n",
       "          const docLink = document.createElement('div');\n",
       "          docLink.innerHTML = docLinkHtml;\n",
       "          element.appendChild(docLink);\n",
       "        }\n",
       "      </script>\n",
       "    </div>\n",
       "  </div>\n",
       "  "
      ],
      "text/plain": [
       "                                                     text  toxic\n",
       "33057   I can't believe that you have yet to object to...      0\n",
       "16309   Complaint posted on Wikipedia:Administrators' ...      0\n",
       "148418  Well \\n\\nThanks for your well-pointed assertio...      0\n",
       "32744   America \\n\\nThey have Saturday morning cartoon...      0\n",
       "35549   From the third party PoV - they'd be peeved th...      0"
      ]
     },
     "execution_count": 22,
     "metadata": {},
     "output_type": "execute_result"
    }
   ],
   "source": [
    "# Проверим\n",
    "df_sample.head()"
   ]
  },
  {
   "cell_type": "code",
   "execution_count": 23,
   "metadata": {
    "id": "ywy1ObTYQFXv"
   },
   "outputs": [],
   "source": [
    "# Преобразуем текст в номера токенов из словаря методом encode()\n",
    "tokenized = df_sample['text'].apply(\n",
    "    lambda x: tokenizer.encode(x, add_special_tokens=True, max_length=512, padding='max_length', truncation=True))\n",
    "\n",
    "max_len = 0\n",
    "for i in tokenized.values:\n",
    "    if len(i) > max_len:\n",
    "        max_len = len(i)\n",
    "        \n",
    "# Применим метод padding (англ. «отступ»), чтобы после токенизации длины исходных текстов в корпусе были равными\n",
    "padded = np.array([i + [0]*(max_len - len(i)) for i in tokenized.values])\n",
    "\n",
    "attention_mask = np.where(padded != 0, 1, 0)"
   ]
  },
  {
   "cell_type": "code",
   "execution_count": 24,
   "metadata": {
    "id": "9pdx5a-XQFX2"
   },
   "outputs": [],
   "source": [
    "# Подключим GPU\n",
    "device = torch.device(\"cuda\" if torch.cuda.is_available() else \"cpu\")\n",
    "\n",
    "model = model.to(device)"
   ]
  },
  {
   "cell_type": "code",
   "execution_count": 25,
   "metadata": {
    "colab": {
     "base_uri": "https://localhost:8080/",
     "height": 49,
     "referenced_widgets": [
      "65b6dfe70155440e80df7055df0abdfc",
      "080e06bc1ee04e879b37f72026a15516",
      "30c0b43ab9734d28a4f1968dfda82741",
      "b072e7b6353944c692f68ac4794f0ab3",
      "e02b96d78b0c4e27bfc52f12320576f6",
      "6f907b70205b4aa885587e4a23f28043",
      "4a961c2dda0745daa9b7d7928dfe0467",
      "17249f416fa04023a9aa45dbbfb1af12",
      "42a4488999b048db82692696f1ae2e6f",
      "12a1ea5d07654b3f97165142ffe7edb7",
      "15979ba5de43423b976c528b6c7c6411"
     ]
    },
    "id": "6aiahjoXQFX2",
    "outputId": "3e268602-f11c-4f18-e3e4-3149199f6fe7",
    "scrolled": true
   },
   "outputs": [
    {
     "data": {
      "application/vnd.jupyter.widget-view+json": {
       "model_id": "65b6dfe70155440e80df7055df0abdfc",
       "version_major": 2,
       "version_minor": 0
      },
      "text/plain": [
       "  0%|          | 0/6 [00:00<?, ?it/s]"
      ]
     },
     "metadata": {},
     "output_type": "display_data"
    }
   ],
   "source": [
    "# Преобразуем данные в формат тензоров (англ. tensor) — многомерных векторов в библиотеке torch\n",
    "batch_size = 100\n",
    "embeddings = []\n",
    "for i in notebook.tqdm(range(padded.shape[0] // batch_size)):\n",
    "        batch = torch.LongTensor(padded[batch_size*i:batch_size*(i+1)]) \n",
    "        attention_mask_batch = torch.LongTensor(attention_mask[batch_size*i:batch_size*(i+1)])\n",
    "        \n",
    "        with torch.no_grad():\n",
    "            batch_embeddings = model(batch, attention_mask=attention_mask_batch)\n",
    "# Из полученного тензора извлечём нужные элементы и добавим в список всех эмбеддингов        \n",
    "        embeddings.append(batch_embeddings[0][:,0,:].numpy())"
   ]
  },
  {
   "cell_type": "code",
   "execution_count": 26,
   "metadata": {
    "id": "_PfvuOqEQFX3"
   },
   "outputs": [],
   "source": [
    "# Соберём все эмбеддинги в матрицу признаков вызовом функции concatenate()\n",
    "features = np.concatenate(embeddings)"
   ]
  },
  {
   "cell_type": "code",
   "execution_count": 27,
   "metadata": {
    "colab": {
     "base_uri": "https://localhost:8080/"
    },
    "id": "-w7bHy-HQFX3",
    "outputId": "7bf10f14-ec96-46f2-8399-a7d8683c3eeb"
   },
   "outputs": [
    {
     "name": "stdout",
     "output_type": "stream",
     "text": [
      "(450, 768) (150, 768) (450,) (150,)\n",
      "Баланс классов: 0.10222222222222223 0.1\n"
     ]
    }
   ],
   "source": [
    "# Выделим тестовую выборку\n",
    "features_train, features_test, target_train, target_test = train_test_split(features,\n",
    " df_sample['toxic'],\n",
    " test_size=150,\n",
    " stratify=df_sample['toxic'],\n",
    " random_state=12345)\n",
    "print(features_train.shape, features_test.shape, target_train.shape, target_test.shape)\n",
    "print('Баланс классов:', target_train.mean(), target_test.mean())"
   ]
  },
  {
   "cell_type": "markdown",
   "metadata": {
    "id": "7zDcycEBQFX3"
   },
   "source": [
    "### Промежуточный вывод:\n",
    "Сделали выборки из 600 сообщений, для ускорения процесса. Пребразовали в токены и ограничили их длинну, чтобы модель BERT заработала. Получили итоговую матрицу Эмбэдингов. Признаки готовы к обучению и предсказанию."
   ]
  },
  {
   "cell_type": "markdown",
   "metadata": {
    "id": "9rLe_AUmQFX3"
   },
   "source": [
    "## Обучение"
   ]
  },
  {
   "cell_type": "markdown",
   "metadata": {
    "id": "xvVEg-UyQFX3"
   },
   "source": [
    "### Обучим Логистическую Регрессию"
   ]
  },
  {
   "cell_type": "code",
   "execution_count": 28,
   "metadata": {
    "id": "AutO-qjrQFX3"
   },
   "outputs": [],
   "source": [
    "# Сделаем метрику\n",
    "f1 = make_scorer(f1_score)"
   ]
  },
  {
   "cell_type": "code",
   "execution_count": 29,
   "metadata": {
    "id": "YTbYry7qQFX3",
    "scrolled": true
   },
   "outputs": [],
   "source": [
    "# Обучим Логистическую регрессию и посмотрим на результат\n",
    "model = LogisticRegression()"
   ]
  },
  {
   "cell_type": "code",
   "execution_count": 30,
   "metadata": {
    "colab": {
     "base_uri": "https://localhost:8080/"
    },
    "id": "KJ-4VQQAQFX4",
    "outputId": "a2c071d8-03d5-4b75-9935-887a1c3c6d15"
   },
   "outputs": [
    {
     "name": "stderr",
     "output_type": "stream",
     "text": [
      "[Parallel(n_jobs=-1)]: Using backend LokyBackend with 2 concurrent workers.\n",
      "[Parallel(n_jobs=-1)]: Done   1 tasks      | elapsed:    2.3s\n",
      "[Parallel(n_jobs=-1)]: Done   3 out of   5 | elapsed:    2.4s remaining:    1.6s\n",
      "[Parallel(n_jobs=-1)]: Done   5 out of   5 | elapsed:    2.4s remaining:    0.0s\n",
      "[Parallel(n_jobs=-1)]: Done   5 out of   5 | elapsed:    2.4s finished\n"
     ]
    },
    {
     "name": "stdout",
     "output_type": "stream",
     "text": [
      "Средняя оценка качества модели F1: 0.9459629465821416\n",
      "CPU times: user 63.1 ms, sys: 101 ms, total: 164 ms\n",
      "Wall time: 2.61 s\n"
     ]
    }
   ],
   "source": [
    "%%time\n",
    "# Расчет значений на кросвалидации\n",
    "scores = cross_val_score(model, features_train, target_train, cv=5, n_jobs=-1, verbose=10, scoring=f1)\n",
    "final_score = pd.Series(scores).mean()\n",
    "print('Средняя оценка качества модели F1:', final_score)"
   ]
  },
  {
   "cell_type": "code",
   "execution_count": 31,
   "metadata": {
    "colab": {
     "base_uri": "https://localhost:8080/"
    },
    "id": "_Yjitfa8QFX4",
    "outputId": "7f919a61-a1c5-4f20-8416-58df82088493"
   },
   "outputs": [
    {
     "name": "stderr",
     "output_type": "stream",
     "text": [
      "[Parallel(n_jobs=-1)]: Using backend LokyBackend with 2 concurrent workers.\n",
      "[Parallel(n_jobs=-1)]: Done   1 tasks      | elapsed:    0.1s\n",
      "[Parallel(n_jobs=-1)]: Batch computation too fast (0.0681s.) Setting batch_size=2.\n",
      "[Parallel(n_jobs=-1)]: Done   3 out of   5 | elapsed:    0.1s remaining:    0.1s\n",
      "[Parallel(n_jobs=-1)]: Done   5 out of   5 | elapsed:    0.2s remaining:    0.0s\n",
      "[Parallel(n_jobs=-1)]: Done   5 out of   5 | elapsed:    0.2s finished\n"
     ]
    },
    {
     "name": "stdout",
     "output_type": "stream",
     "text": [
      "Средняя оценка качества модели F1: 0.9554867561059511\n",
      "CPU times: user 21.1 ms, sys: 2.28 ms, total: 23.4 ms\n",
      "Wall time: 260 ms\n"
     ]
    }
   ],
   "source": [
    "%%time\n",
    "# Посмотрим как справится конвеер с данными\n",
    "pipe = make_pipeline(StandardScaler(), LogisticRegression())\n",
    "\n",
    "scores = cross_val_score(pipe, features_train, target_train, cv=5, n_jobs=-1, verbose=10, scoring=f1)\n",
    "final_score = pd.Series(scores).mean()\n",
    "\n",
    "Pipeline(steps=[('standardscaler', StandardScaler()),\n",
    "                ('logisticregression', LogisticRegression())])\n",
    "\n",
    "print('Средняя оценка качества модели F1:', final_score)"
   ]
  },
  {
   "cell_type": "markdown",
   "metadata": {
    "id": "gtFpsRfdQFX5"
   },
   "source": [
    "### Обучим Случайный лес кроссвалидацией по сетке гиперпараметров"
   ]
  },
  {
   "cell_type": "code",
   "execution_count": 43,
   "metadata": {
    "id": "xh-HIQ0tQFX5"
   },
   "outputs": [],
   "source": [
    "# параметры для GridSearchCV\n",
    "parametrs = { \n",
    "    'criterion': ['gini', 'entropy', 'log_loss'],\n",
    "    'n_estimators': range (1, 150, 10),\n",
    "              'max_depth': range (1, 150, 10) }"
   ]
  },
  {
   "cell_type": "code",
   "execution_count": 44,
   "metadata": {
    "colab": {
     "base_uri": "https://localhost:8080/",
     "height": 135
    },
    "id": "hIIu01L2QFX5",
    "outputId": "49807b9a-37ff-4435-cd21-a3e39ace0911"
   },
   "outputs": [
    {
     "name": "stdout",
     "output_type": "stream",
     "text": [
      "Fitting 5 folds for each of 675 candidates, totalling 3375 fits\n"
     ]
    },
    {
     "data": {
      "text/html": [
       "<style>#sk-container-id-2 {color: black;background-color: white;}#sk-container-id-2 pre{padding: 0;}#sk-container-id-2 div.sk-toggleable {background-color: white;}#sk-container-id-2 label.sk-toggleable__label {cursor: pointer;display: block;width: 100%;margin-bottom: 0;padding: 0.3em;box-sizing: border-box;text-align: center;}#sk-container-id-2 label.sk-toggleable__label-arrow:before {content: \"▸\";float: left;margin-right: 0.25em;color: #696969;}#sk-container-id-2 label.sk-toggleable__label-arrow:hover:before {color: black;}#sk-container-id-2 div.sk-estimator:hover label.sk-toggleable__label-arrow:before {color: black;}#sk-container-id-2 div.sk-toggleable__content {max-height: 0;max-width: 0;overflow: hidden;text-align: left;background-color: #f0f8ff;}#sk-container-id-2 div.sk-toggleable__content pre {margin: 0.2em;color: black;border-radius: 0.25em;background-color: #f0f8ff;}#sk-container-id-2 input.sk-toggleable__control:checked~div.sk-toggleable__content {max-height: 200px;max-width: 100%;overflow: auto;}#sk-container-id-2 input.sk-toggleable__control:checked~label.sk-toggleable__label-arrow:before {content: \"▾\";}#sk-container-id-2 div.sk-estimator input.sk-toggleable__control:checked~label.sk-toggleable__label {background-color: #d4ebff;}#sk-container-id-2 div.sk-label input.sk-toggleable__control:checked~label.sk-toggleable__label {background-color: #d4ebff;}#sk-container-id-2 input.sk-hidden--visually {border: 0;clip: rect(1px 1px 1px 1px);clip: rect(1px, 1px, 1px, 1px);height: 1px;margin: -1px;overflow: hidden;padding: 0;position: absolute;width: 1px;}#sk-container-id-2 div.sk-estimator {font-family: monospace;background-color: #f0f8ff;border: 1px dotted black;border-radius: 0.25em;box-sizing: border-box;margin-bottom: 0.5em;}#sk-container-id-2 div.sk-estimator:hover {background-color: #d4ebff;}#sk-container-id-2 div.sk-parallel-item::after {content: \"\";width: 100%;border-bottom: 1px solid gray;flex-grow: 1;}#sk-container-id-2 div.sk-label:hover label.sk-toggleable__label {background-color: #d4ebff;}#sk-container-id-2 div.sk-serial::before {content: \"\";position: absolute;border-left: 1px solid gray;box-sizing: border-box;top: 0;bottom: 0;left: 50%;z-index: 0;}#sk-container-id-2 div.sk-serial {display: flex;flex-direction: column;align-items: center;background-color: white;padding-right: 0.2em;padding-left: 0.2em;position: relative;}#sk-container-id-2 div.sk-item {position: relative;z-index: 1;}#sk-container-id-2 div.sk-parallel {display: flex;align-items: stretch;justify-content: center;background-color: white;position: relative;}#sk-container-id-2 div.sk-item::before, #sk-container-id-2 div.sk-parallel-item::before {content: \"\";position: absolute;border-left: 1px solid gray;box-sizing: border-box;top: 0;bottom: 0;left: 50%;z-index: -1;}#sk-container-id-2 div.sk-parallel-item {display: flex;flex-direction: column;z-index: 1;position: relative;background-color: white;}#sk-container-id-2 div.sk-parallel-item:first-child::after {align-self: flex-end;width: 50%;}#sk-container-id-2 div.sk-parallel-item:last-child::after {align-self: flex-start;width: 50%;}#sk-container-id-2 div.sk-parallel-item:only-child::after {width: 0;}#sk-container-id-2 div.sk-dashed-wrapped {border: 1px dashed gray;margin: 0 0.4em 0.5em 0.4em;box-sizing: border-box;padding-bottom: 0.4em;background-color: white;}#sk-container-id-2 div.sk-label label {font-family: monospace;font-weight: bold;display: inline-block;line-height: 1.2em;}#sk-container-id-2 div.sk-label-container {text-align: center;}#sk-container-id-2 div.sk-container {/* jupyter's `normalize.less` sets `[hidden] { display: none; }` but bootstrap.min.css set `[hidden] { display: none !important; }` so we also need the `!important` here to be able to override the default hidden behavior on the sphinx rendered scikit-learn.org. See: https://github.com/scikit-learn/scikit-learn/issues/21755 */display: inline-block !important;position: relative;}#sk-container-id-2 div.sk-text-repr-fallback {display: none;}</style><div id=\"sk-container-id-2\" class=\"sk-top-container\"><div class=\"sk-text-repr-fallback\"><pre>GridSearchCV(cv=5, estimator=RandomForestClassifier(class_weight=&#x27;balanced&#x27;),\n",
       "             n_jobs=-1,\n",
       "             param_grid={&#x27;criterion&#x27;: [&#x27;gini&#x27;, &#x27;entropy&#x27;, &#x27;log_loss&#x27;],\n",
       "                         &#x27;max_depth&#x27;: range(1, 150, 10),\n",
       "                         &#x27;n_estimators&#x27;: range(1, 150, 10)},\n",
       "             scoring=&#x27;f1&#x27;, verbose=10)</pre><b>In a Jupyter environment, please rerun this cell to show the HTML representation or trust the notebook. <br />On GitHub, the HTML representation is unable to render, please try loading this page with nbviewer.org.</b></div><div class=\"sk-container\" hidden><div class=\"sk-item sk-dashed-wrapped\"><div class=\"sk-label-container\"><div class=\"sk-label sk-toggleable\"><input class=\"sk-toggleable__control sk-hidden--visually\" id=\"sk-estimator-id-4\" type=\"checkbox\" ><label for=\"sk-estimator-id-4\" class=\"sk-toggleable__label sk-toggleable__label-arrow\">GridSearchCV</label><div class=\"sk-toggleable__content\"><pre>GridSearchCV(cv=5, estimator=RandomForestClassifier(class_weight=&#x27;balanced&#x27;),\n",
       "             n_jobs=-1,\n",
       "             param_grid={&#x27;criterion&#x27;: [&#x27;gini&#x27;, &#x27;entropy&#x27;, &#x27;log_loss&#x27;],\n",
       "                         &#x27;max_depth&#x27;: range(1, 150, 10),\n",
       "                         &#x27;n_estimators&#x27;: range(1, 150, 10)},\n",
       "             scoring=&#x27;f1&#x27;, verbose=10)</pre></div></div></div><div class=\"sk-parallel\"><div class=\"sk-parallel-item\"><div class=\"sk-item\"><div class=\"sk-label-container\"><div class=\"sk-label sk-toggleable\"><input class=\"sk-toggleable__control sk-hidden--visually\" id=\"sk-estimator-id-5\" type=\"checkbox\" ><label for=\"sk-estimator-id-5\" class=\"sk-toggleable__label sk-toggleable__label-arrow\">estimator: RandomForestClassifier</label><div class=\"sk-toggleable__content\"><pre>RandomForestClassifier(class_weight=&#x27;balanced&#x27;)</pre></div></div></div><div class=\"sk-serial\"><div class=\"sk-item\"><div class=\"sk-estimator sk-toggleable\"><input class=\"sk-toggleable__control sk-hidden--visually\" id=\"sk-estimator-id-6\" type=\"checkbox\" ><label for=\"sk-estimator-id-6\" class=\"sk-toggleable__label sk-toggleable__label-arrow\">RandomForestClassifier</label><div class=\"sk-toggleable__content\"><pre>RandomForestClassifier(class_weight=&#x27;balanced&#x27;)</pre></div></div></div></div></div></div></div></div></div></div>"
      ],
      "text/plain": [
       "GridSearchCV(cv=5, estimator=RandomForestClassifier(class_weight='balanced'),\n",
       "             n_jobs=-1,\n",
       "             param_grid={'criterion': ['gini', 'entropy', 'log_loss'],\n",
       "                         'max_depth': range(1, 150, 10),\n",
       "                         'n_estimators': range(1, 150, 10)},\n",
       "             scoring='f1', verbose=10)"
      ]
     },
     "execution_count": 44,
     "metadata": {},
     "output_type": "execute_result"
    }
   ],
   "source": [
    "# Поиск лучших гипер-параметров \n",
    "rfc = RandomForestClassifier(class_weight='balanced')\n",
    "grid_rfc = GridSearchCV(rfc, parametrs, cv=5, n_jobs=-1, verbose=10, scoring='f1')\n",
    "grid_rfc.fit(features_train, target_train)"
   ]
  },
  {
   "cell_type": "code",
   "execution_count": 45,
   "metadata": {
    "colab": {
     "base_uri": "https://localhost:8080/"
    },
    "id": "1z9fO1PRQFX5",
    "outputId": "1463451e-8103-4fd2-852e-e5b171293397"
   },
   "outputs": [
    {
     "data": {
      "text/plain": [
       "{'criterion': 'log_loss', 'max_depth': 11, 'n_estimators': 21}"
      ]
     },
     "execution_count": 45,
     "metadata": {},
     "output_type": "execute_result"
    }
   ],
   "source": [
    "grid_rfc.best_params_"
   ]
  },
  {
   "cell_type": "code",
   "execution_count": 49,
   "metadata": {
    "colab": {
     "base_uri": "https://localhost:8080/"
    },
    "id": "Fq0sPnOGQFX5",
    "outputId": "e8fe5b77-c968-4c47-a9d0-3e34c1c61510"
   },
   "outputs": [
    {
     "data": {
      "text/plain": [
       "0.966013071895425"
      ]
     },
     "execution_count": 49,
     "metadata": {},
     "output_type": "execute_result"
    }
   ],
   "source": [
    "grid_rfc.best_score_"
   ]
  },
  {
   "cell_type": "markdown",
   "metadata": {
    "id": "DNOCAst9QFX5"
   },
   "source": [
    "### Обучим модель CatBoost"
   ]
  },
  {
   "cell_type": "code",
   "execution_count": 46,
   "metadata": {
    "colab": {
     "base_uri": "https://localhost:8080/"
    },
    "id": "wmdBHAYLQFX6",
    "outputId": "df18cd80-0a65-4d69-dc6a-38ef5d551e34",
    "scrolled": true
   },
   "outputs": [
    {
     "name": "stdout",
     "output_type": "stream",
     "text": [
      "CPU times: user 153 µs, sys: 14 µs, total: 167 µs\n",
      "Wall time: 173 µs\n"
     ]
    }
   ],
   "source": [
    "%%time\n",
    "# Построим модель CatBoostClassifier\n",
    "\n",
    "model_cat = CatBoostClassifier(loss_function='Logloss', verbose=10,  custom_metric= 'F1') \n",
    "param_search = {'learning_rate': [0.1,  0.3],\n",
    "        'depth': [6, 8],\n",
    "        'iterations': [100]}\n",
    "\n",
    "gsearch_cat = GridSearchCV(estimator=model_cat, \n",
    "                       cv=5, \n",
    "                       param_grid=param_search,  \n",
    "                       scoring=f1)"
   ]
  },
  {
   "cell_type": "code",
   "execution_count": 47,
   "metadata": {
    "colab": {
     "base_uri": "https://localhost:8080/"
    },
    "id": "1vhP8PrkQFX6",
    "outputId": "868ce48b-8abe-4625-983b-4fd9b6fefe67"
   },
   "outputs": [
    {
     "name": "stdout",
     "output_type": "stream",
     "text": [
      "0:\tlearn: 0.5132083\ttotal: 185ms\tremaining: 18.3s\n",
      "10:\tlearn: 0.0514641\ttotal: 1.51s\tremaining: 12.3s\n",
      "20:\tlearn: 0.0149374\ttotal: 3.59s\tremaining: 13.5s\n",
      "30:\tlearn: 0.0070857\ttotal: 5.49s\tremaining: 12.2s\n",
      "40:\tlearn: 0.0045276\ttotal: 6.78s\tremaining: 9.76s\n",
      "50:\tlearn: 0.0032286\ttotal: 8.09s\tremaining: 7.77s\n",
      "60:\tlearn: 0.0024822\ttotal: 9.38s\tremaining: 6s\n",
      "70:\tlearn: 0.0020309\ttotal: 10.7s\tremaining: 4.36s\n",
      "80:\tlearn: 0.0017007\ttotal: 12s\tremaining: 2.81s\n",
      "90:\tlearn: 0.0014731\ttotal: 13.3s\tremaining: 1.31s\n",
      "99:\tlearn: 0.0013237\ttotal: 14.5s\tremaining: 0us\n",
      "0:\tlearn: 0.5152412\ttotal: 170ms\tremaining: 16.9s\n",
      "10:\tlearn: 0.0493087\ttotal: 2.33s\tremaining: 18.8s\n",
      "20:\tlearn: 0.0153164\ttotal: 4.1s\tremaining: 15.4s\n",
      "30:\tlearn: 0.0077785\ttotal: 5.4s\tremaining: 12s\n",
      "40:\tlearn: 0.0050484\ttotal: 6.7s\tremaining: 9.64s\n",
      "50:\tlearn: 0.0034688\ttotal: 7.99s\tremaining: 7.68s\n",
      "60:\tlearn: 0.0026949\ttotal: 9.3s\tremaining: 5.94s\n",
      "70:\tlearn: 0.0022051\ttotal: 10.6s\tremaining: 4.33s\n",
      "80:\tlearn: 0.0018677\ttotal: 11.9s\tremaining: 2.79s\n",
      "90:\tlearn: 0.0016117\ttotal: 13.2s\tremaining: 1.31s\n",
      "99:\tlearn: 0.0014687\ttotal: 15.1s\tremaining: 0us\n",
      "0:\tlearn: 0.5150798\ttotal: 261ms\tremaining: 25.8s\n",
      "10:\tlearn: 0.0515588\ttotal: 1.92s\tremaining: 15.6s\n",
      "20:\tlearn: 0.0154373\ttotal: 3.23s\tremaining: 12.1s\n",
      "30:\tlearn: 0.0082730\ttotal: 4.56s\tremaining: 10.2s\n",
      "40:\tlearn: 0.0053636\ttotal: 5.89s\tremaining: 8.47s\n",
      "50:\tlearn: 0.0038367\ttotal: 7.23s\tremaining: 6.95s\n",
      "60:\tlearn: 0.0030245\ttotal: 8.57s\tremaining: 5.48s\n",
      "70:\tlearn: 0.0024670\ttotal: 9.95s\tremaining: 4.06s\n",
      "80:\tlearn: 0.0020890\ttotal: 11.5s\tremaining: 2.69s\n",
      "90:\tlearn: 0.0018185\ttotal: 13.9s\tremaining: 1.37s\n",
      "99:\tlearn: 0.0016502\ttotal: 15.2s\tremaining: 0us\n",
      "0:\tlearn: 0.5389485\ttotal: 176ms\tremaining: 17.4s\n",
      "10:\tlearn: 0.0549299\ttotal: 1.52s\tremaining: 12.3s\n",
      "20:\tlearn: 0.0158957\ttotal: 2.83s\tremaining: 10.7s\n",
      "30:\tlearn: 0.0077842\ttotal: 4.13s\tremaining: 9.2s\n",
      "40:\tlearn: 0.0048315\ttotal: 5.44s\tremaining: 7.83s\n",
      "50:\tlearn: 0.0035975\ttotal: 6.76s\tremaining: 6.5s\n",
      "60:\tlearn: 0.0028400\ttotal: 8.06s\tremaining: 5.15s\n",
      "70:\tlearn: 0.0022793\ttotal: 9.78s\tremaining: 4s\n",
      "80:\tlearn: 0.0019289\ttotal: 11.9s\tremaining: 2.8s\n",
      "90:\tlearn: 0.0016820\ttotal: 13.2s\tremaining: 1.31s\n",
      "99:\tlearn: 0.0015029\ttotal: 14.4s\tremaining: 0us\n",
      "0:\tlearn: 0.5160585\ttotal: 169ms\tremaining: 16.8s\n",
      "10:\tlearn: 0.0520555\ttotal: 1.47s\tremaining: 11.9s\n",
      "20:\tlearn: 0.0151162\ttotal: 2.79s\tremaining: 10.5s\n",
      "30:\tlearn: 0.0080228\ttotal: 4.09s\tremaining: 9.11s\n",
      "40:\tlearn: 0.0050579\ttotal: 5.38s\tremaining: 7.74s\n",
      "50:\tlearn: 0.0036675\ttotal: 6.68s\tremaining: 6.42s\n",
      "60:\tlearn: 0.0029050\ttotal: 8.62s\tremaining: 5.51s\n",
      "70:\tlearn: 0.0023306\ttotal: 10.6s\tremaining: 4.35s\n",
      "80:\tlearn: 0.0019565\ttotal: 11.9s\tremaining: 2.8s\n",
      "90:\tlearn: 0.0017011\ttotal: 13.3s\tremaining: 1.31s\n",
      "99:\tlearn: 0.0015429\ttotal: 14.4s\tremaining: 0us\n",
      "0:\tlearn: 0.2777418\ttotal: 167ms\tremaining: 16.6s\n",
      "10:\tlearn: 0.0058382\ttotal: 1.45s\tremaining: 11.7s\n",
      "20:\tlearn: 0.0023798\ttotal: 2.74s\tremaining: 10.3s\n",
      "30:\tlearn: 0.0014268\ttotal: 4.05s\tremaining: 9.03s\n",
      "40:\tlearn: 0.0010867\ttotal: 5.34s\tremaining: 7.68s\n",
      "50:\tlearn: 0.0008747\ttotal: 7.28s\tremaining: 6.99s\n",
      "60:\tlearn: 0.0007427\ttotal: 9.23s\tremaining: 5.9s\n",
      "70:\tlearn: 0.0006517\ttotal: 10.5s\tremaining: 4.3s\n",
      "80:\tlearn: 0.0005782\ttotal: 11.9s\tremaining: 2.78s\n",
      "90:\tlearn: 0.0005173\ttotal: 13.2s\tremaining: 1.3s\n",
      "99:\tlearn: 0.0004801\ttotal: 14.4s\tremaining: 0us\n",
      "0:\tlearn: 0.2816929\ttotal: 163ms\tremaining: 16.1s\n",
      "10:\tlearn: 0.0067630\ttotal: 1.49s\tremaining: 12.1s\n",
      "20:\tlearn: 0.0024830\ttotal: 2.8s\tremaining: 10.5s\n",
      "30:\tlearn: 0.0014929\ttotal: 4.11s\tremaining: 9.14s\n",
      "40:\tlearn: 0.0010882\ttotal: 6.33s\tremaining: 9.12s\n",
      "50:\tlearn: 0.0008732\ttotal: 8.05s\tremaining: 7.73s\n",
      "60:\tlearn: 0.0007414\ttotal: 9.34s\tremaining: 5.97s\n",
      "70:\tlearn: 0.0006444\ttotal: 10.6s\tremaining: 4.34s\n",
      "80:\tlearn: 0.0005749\ttotal: 12s\tremaining: 2.8s\n",
      "90:\tlearn: 0.0005189\ttotal: 13.3s\tremaining: 1.31s\n",
      "99:\tlearn: 0.0004761\ttotal: 14.5s\tremaining: 0us\n",
      "0:\tlearn: 0.2818520\ttotal: 166ms\tremaining: 16.4s\n",
      "10:\tlearn: 0.0073021\ttotal: 1.48s\tremaining: 11.9s\n",
      "20:\tlearn: 0.0027749\ttotal: 2.8s\tremaining: 10.5s\n",
      "30:\tlearn: 0.0016719\ttotal: 5.11s\tremaining: 11.4s\n",
      "40:\tlearn: 0.0012469\ttotal: 6.69s\tremaining: 9.63s\n",
      "50:\tlearn: 0.0010192\ttotal: 8.04s\tremaining: 7.72s\n",
      "60:\tlearn: 0.0008512\ttotal: 9.37s\tremaining: 5.99s\n",
      "70:\tlearn: 0.0007349\ttotal: 10.7s\tremaining: 4.36s\n",
      "80:\tlearn: 0.0006480\ttotal: 12s\tremaining: 2.81s\n",
      "90:\tlearn: 0.0005846\ttotal: 13.3s\tremaining: 1.32s\n",
      "99:\tlearn: 0.0005359\ttotal: 14.6s\tremaining: 0us\n",
      "0:\tlearn: 0.3216518\ttotal: 174ms\tremaining: 17.2s\n",
      "10:\tlearn: 0.0085801\ttotal: 1.84s\tremaining: 14.9s\n",
      "20:\tlearn: 0.0028040\ttotal: 4.19s\tremaining: 15.8s\n",
      "30:\tlearn: 0.0017915\ttotal: 5.49s\tremaining: 12.2s\n",
      "40:\tlearn: 0.0013602\ttotal: 6.83s\tremaining: 9.82s\n",
      "50:\tlearn: 0.0011025\ttotal: 8.16s\tremaining: 7.84s\n",
      "60:\tlearn: 0.0009096\ttotal: 9.5s\tremaining: 6.07s\n",
      "70:\tlearn: 0.0007754\ttotal: 10.8s\tremaining: 4.43s\n",
      "80:\tlearn: 0.0006790\ttotal: 12.2s\tremaining: 2.85s\n",
      "90:\tlearn: 0.0006022\ttotal: 13.5s\tremaining: 1.33s\n",
      "99:\tlearn: 0.0005448\ttotal: 15s\tremaining: 0us\n",
      "0:\tlearn: 0.2834015\ttotal: 293ms\tremaining: 29s\n",
      "10:\tlearn: 0.0074640\ttotal: 2.33s\tremaining: 18.9s\n",
      "20:\tlearn: 0.0028925\ttotal: 3.67s\tremaining: 13.8s\n",
      "30:\tlearn: 0.0017864\ttotal: 4.98s\tremaining: 11.1s\n",
      "40:\tlearn: 0.0012984\ttotal: 6.3s\tremaining: 9.06s\n",
      "50:\tlearn: 0.0010268\ttotal: 7.62s\tremaining: 7.32s\n",
      "60:\tlearn: 0.0008478\ttotal: 8.93s\tremaining: 5.71s\n",
      "70:\tlearn: 0.0007085\ttotal: 10.2s\tremaining: 4.18s\n",
      "80:\tlearn: 0.0006168\ttotal: 11.6s\tremaining: 2.71s\n",
      "90:\tlearn: 0.0005364\ttotal: 13.6s\tremaining: 1.34s\n",
      "99:\tlearn: 0.0004816\ttotal: 15.4s\tremaining: 0us\n",
      "0:\tlearn: 0.5429861\ttotal: 898ms\tremaining: 1m 28s\n",
      "10:\tlearn: 0.0683341\ttotal: 5.14s\tremaining: 41.6s\n",
      "20:\tlearn: 0.0220102\ttotal: 9.26s\tremaining: 34.8s\n",
      "30:\tlearn: 0.0106833\ttotal: 14.7s\tremaining: 32.7s\n",
      "40:\tlearn: 0.0069765\ttotal: 18.9s\tremaining: 27.2s\n",
      "50:\tlearn: 0.0051696\ttotal: 23.3s\tremaining: 22.4s\n",
      "60:\tlearn: 0.0039747\ttotal: 28.5s\tremaining: 18.2s\n",
      "70:\tlearn: 0.0031646\ttotal: 32.7s\tremaining: 13.3s\n",
      "80:\tlearn: 0.0026120\ttotal: 37.6s\tremaining: 8.82s\n",
      "90:\tlearn: 0.0022921\ttotal: 42.1s\tremaining: 4.17s\n",
      "99:\tlearn: 0.0020556\ttotal: 45.9s\tremaining: 0us\n",
      "0:\tlearn: 0.5458564\ttotal: 531ms\tremaining: 52.6s\n",
      "10:\tlearn: 0.0701702\ttotal: 5.92s\tremaining: 47.9s\n",
      "20:\tlearn: 0.0251511\ttotal: 10.1s\tremaining: 37.9s\n",
      "30:\tlearn: 0.0121884\ttotal: 14.2s\tremaining: 31.7s\n",
      "40:\tlearn: 0.0073455\ttotal: 20s\tremaining: 28.7s\n",
      "50:\tlearn: 0.0054714\ttotal: 24.2s\tremaining: 23.2s\n",
      "60:\tlearn: 0.0043210\ttotal: 28.4s\tremaining: 18.1s\n",
      "70:\tlearn: 0.0034543\ttotal: 33.8s\tremaining: 13.8s\n",
      "80:\tlearn: 0.0028588\ttotal: 37.9s\tremaining: 8.89s\n",
      "90:\tlearn: 0.0024536\ttotal: 42s\tremaining: 4.16s\n",
      "99:\tlearn: 0.0022131\ttotal: 47s\tremaining: 0us\n",
      "0:\tlearn: 0.5443027\ttotal: 546ms\tremaining: 54s\n",
      "10:\tlearn: 0.0761860\ttotal: 4.69s\tremaining: 38s\n",
      "20:\tlearn: 0.0266757\ttotal: 9.38s\tremaining: 35.3s\n",
      "30:\tlearn: 0.0127600\ttotal: 14.2s\tremaining: 31.6s\n",
      "40:\tlearn: 0.0078338\ttotal: 18.4s\tremaining: 26.5s\n",
      "50:\tlearn: 0.0057688\ttotal: 23.6s\tremaining: 22.7s\n",
      "60:\tlearn: 0.0043778\ttotal: 28s\tremaining: 17.9s\n",
      "70:\tlearn: 0.0034574\ttotal: 31.9s\tremaining: 13s\n",
      "80:\tlearn: 0.0028934\ttotal: 37.4s\tremaining: 8.76s\n",
      "90:\tlearn: 0.0024632\ttotal: 41.5s\tremaining: 4.11s\n",
      "99:\tlearn: 0.0021861\ttotal: 45.3s\tremaining: 0us\n",
      "0:\tlearn: 0.5653257\ttotal: 520ms\tremaining: 51.5s\n",
      "10:\tlearn: 0.0693405\ttotal: 5.97s\tremaining: 48.3s\n",
      "20:\tlearn: 0.0252365\ttotal: 10.1s\tremaining: 37.8s\n",
      "30:\tlearn: 0.0123760\ttotal: 14.4s\tremaining: 32.1s\n",
      "40:\tlearn: 0.0077512\ttotal: 19.8s\tremaining: 28.5s\n",
      "50:\tlearn: 0.0056567\ttotal: 23.9s\tremaining: 22.9s\n",
      "60:\tlearn: 0.0043421\ttotal: 28s\tremaining: 17.9s\n",
      "70:\tlearn: 0.0035552\ttotal: 33.3s\tremaining: 13.6s\n",
      "80:\tlearn: 0.0029348\ttotal: 37.4s\tremaining: 8.78s\n",
      "90:\tlearn: 0.0025113\ttotal: 41.9s\tremaining: 4.14s\n",
      "99:\tlearn: 0.0022462\ttotal: 46.5s\tremaining: 0us\n",
      "0:\tlearn: 0.5460882\ttotal: 541ms\tremaining: 53.5s\n",
      "10:\tlearn: 0.0703719\ttotal: 4.75s\tremaining: 38.5s\n",
      "20:\tlearn: 0.0248019\ttotal: 9.87s\tremaining: 37.1s\n",
      "30:\tlearn: 0.0118550\ttotal: 14.3s\tremaining: 31.9s\n",
      "40:\tlearn: 0.0077193\ttotal: 18.5s\tremaining: 26.6s\n",
      "50:\tlearn: 0.0056745\ttotal: 23.8s\tremaining: 22.9s\n",
      "60:\tlearn: 0.0043813\ttotal: 28s\tremaining: 17.9s\n",
      "70:\tlearn: 0.0036235\ttotal: 32.1s\tremaining: 13.1s\n",
      "80:\tlearn: 0.0030419\ttotal: 37.5s\tremaining: 8.79s\n",
      "90:\tlearn: 0.0025735\ttotal: 41.6s\tremaining: 4.11s\n",
      "99:\tlearn: 0.0022924\ttotal: 45.3s\tremaining: 0us\n",
      "0:\tlearn: 0.3284766\ttotal: 524ms\tremaining: 51.9s\n",
      "10:\tlearn: 0.0103571\ttotal: 5.89s\tremaining: 47.6s\n",
      "20:\tlearn: 0.0039004\ttotal: 10s\tremaining: 37.7s\n",
      "30:\tlearn: 0.0020512\ttotal: 14.3s\tremaining: 31.7s\n",
      "40:\tlearn: 0.0015234\ttotal: 19.7s\tremaining: 28.3s\n",
      "50:\tlearn: 0.0012247\ttotal: 24s\tremaining: 23s\n",
      "60:\tlearn: 0.0010193\ttotal: 28.8s\tremaining: 18.4s\n",
      "70:\tlearn: 0.0008665\ttotal: 33.6s\tremaining: 13.7s\n",
      "80:\tlearn: 0.0007466\ttotal: 37.8s\tremaining: 8.86s\n",
      "90:\tlearn: 0.0006672\ttotal: 43.1s\tremaining: 4.26s\n",
      "99:\tlearn: 0.0006087\ttotal: 46.9s\tremaining: 0us\n",
      "0:\tlearn: 0.3343140\ttotal: 534ms\tremaining: 52.8s\n",
      "10:\tlearn: 0.0104183\ttotal: 4.7s\tremaining: 38s\n",
      "20:\tlearn: 0.0038363\ttotal: 10.1s\tremaining: 38.1s\n",
      "30:\tlearn: 0.0021318\ttotal: 14.3s\tremaining: 31.7s\n",
      "40:\tlearn: 0.0016129\ttotal: 18.5s\tremaining: 26.6s\n",
      "50:\tlearn: 0.0012809\ttotal: 23.8s\tremaining: 22.9s\n",
      "60:\tlearn: 0.0010939\ttotal: 27.9s\tremaining: 17.8s\n",
      "70:\tlearn: 0.0009739\ttotal: 32s\tremaining: 13.1s\n",
      "80:\tlearn: 0.0008742\ttotal: 37.4s\tremaining: 8.77s\n",
      "90:\tlearn: 0.0007765\ttotal: 41.6s\tremaining: 4.11s\n",
      "99:\tlearn: 0.0007062\ttotal: 45.4s\tremaining: 0us\n",
      "0:\tlearn: 0.3312284\ttotal: 949ms\tremaining: 1m 34s\n",
      "10:\tlearn: 0.0096799\ttotal: 5.77s\tremaining: 46.7s\n",
      "20:\tlearn: 0.0041872\ttotal: 9.94s\tremaining: 37.4s\n",
      "30:\tlearn: 0.0022878\ttotal: 15.2s\tremaining: 33.7s\n",
      "40:\tlearn: 0.0016950\ttotal: 19.6s\tremaining: 28.2s\n",
      "50:\tlearn: 0.0013749\ttotal: 23.8s\tremaining: 22.9s\n",
      "60:\tlearn: 0.0011573\ttotal: 29.3s\tremaining: 18.7s\n",
      "70:\tlearn: 0.0010046\ttotal: 33.4s\tremaining: 13.6s\n",
      "80:\tlearn: 0.0008795\ttotal: 37.6s\tremaining: 8.81s\n",
      "90:\tlearn: 0.0007808\ttotal: 43s\tremaining: 4.25s\n",
      "99:\tlearn: 0.0007143\ttotal: 46.7s\tremaining: 0us\n",
      "0:\tlearn: 0.3720188\ttotal: 527ms\tremaining: 52.1s\n",
      "10:\tlearn: 0.0105574\ttotal: 4.67s\tremaining: 37.8s\n",
      "20:\tlearn: 0.0040938\ttotal: 10s\tremaining: 37.7s\n",
      "30:\tlearn: 0.0023494\ttotal: 14.1s\tremaining: 31.4s\n",
      "40:\tlearn: 0.0017089\ttotal: 18.5s\tremaining: 26.7s\n",
      "50:\tlearn: 0.0013778\ttotal: 23.5s\tremaining: 22.6s\n",
      "60:\tlearn: 0.0011592\ttotal: 27.6s\tremaining: 17.7s\n",
      "70:\tlearn: 0.0009959\ttotal: 32.5s\tremaining: 13.3s\n",
      "80:\tlearn: 0.0008787\ttotal: 37.1s\tremaining: 8.69s\n",
      "90:\tlearn: 0.0007820\ttotal: 41.1s\tremaining: 4.07s\n",
      "99:\tlearn: 0.0007035\ttotal: 45.6s\tremaining: 0us\n",
      "0:\tlearn: 0.3347473\ttotal: 934ms\tremaining: 1m 32s\n",
      "10:\tlearn: 0.0099791\ttotal: 5.02s\tremaining: 40.6s\n",
      "20:\tlearn: 0.0041159\ttotal: 9.12s\tremaining: 34.3s\n",
      "30:\tlearn: 0.0024128\ttotal: 14.5s\tremaining: 32.2s\n",
      "40:\tlearn: 0.0017621\ttotal: 18.6s\tremaining: 26.7s\n",
      "50:\tlearn: 0.0014182\ttotal: 22.7s\tremaining: 21.8s\n",
      "60:\tlearn: 0.0012053\ttotal: 28s\tremaining: 17.9s\n",
      "70:\tlearn: 0.0010468\ttotal: 32.1s\tremaining: 13.1s\n",
      "80:\tlearn: 0.0009246\ttotal: 36.2s\tremaining: 8.48s\n",
      "90:\tlearn: 0.0008337\ttotal: 41.5s\tremaining: 4.1s\n",
      "99:\tlearn: 0.0007598\ttotal: 45.1s\tremaining: 0us\n",
      "0:\tlearn: 0.3240890\ttotal: 534ms\tremaining: 52.8s\n",
      "10:\tlearn: 0.0087770\ttotal: 4.28s\tremaining: 34.6s\n",
      "20:\tlearn: 0.0034178\ttotal: 9.6s\tremaining: 36.1s\n",
      "30:\tlearn: 0.0020096\ttotal: 13.7s\tremaining: 30.6s\n",
      "40:\tlearn: 0.0014795\ttotal: 18.3s\tremaining: 26.4s\n",
      "50:\tlearn: 0.0011777\ttotal: 23.3s\tremaining: 22.4s\n",
      "60:\tlearn: 0.0009798\ttotal: 27.4s\tremaining: 17.5s\n",
      "70:\tlearn: 0.0008324\ttotal: 32.3s\tremaining: 13.2s\n",
      "80:\tlearn: 0.0007178\ttotal: 36.9s\tremaining: 8.65s\n",
      "90:\tlearn: 0.0006367\ttotal: 41s\tremaining: 4.05s\n",
      "99:\tlearn: 0.0005793\ttotal: 45.8s\tremaining: 0us\n",
      "0.9632352941176471\n",
      "CPU times: user 18min 54s, sys: 7.25 s, total: 19min 1s\n",
      "Wall time: 10min 56s\n"
     ]
    }
   ],
   "source": [
    "%%time\n",
    "# Обучим модель\n",
    "gsearch_cat.fit(features_train, target_train)    \n",
    "print(gsearch.best_score_)"
   ]
  },
  {
   "cell_type": "code",
   "execution_count": 48,
   "metadata": {
    "colab": {
     "base_uri": "https://localhost:8080/"
    },
    "id": "GF5CCBKBQFX6",
    "outputId": "a01c54ba-3e57-4920-e020-d3baf41eca2d"
   },
   "outputs": [
    {
     "data": {
      "text/plain": [
       "{'depth': 8, 'iterations': 100, 'learning_rate': 0.3}"
      ]
     },
     "execution_count": 48,
     "metadata": {},
     "output_type": "execute_result"
    }
   ],
   "source": [
    "gsearch_cat.best_params_"
   ]
  },
  {
   "cell_type": "markdown",
   "metadata": {
    "id": "siHGRrY3QFX6"
   },
   "source": [
    "### Проверим на тесте работу лучшей модели - Случайный лес, CatBoost возможно я недостаточно настроил, оказался незначительно хуже"
   ]
  },
  {
   "cell_type": "code",
   "execution_count": 39,
   "metadata": {
    "colab": {
     "base_uri": "https://localhost:8080/"
    },
    "id": "gtsiDSsjQFX6",
    "outputId": "116cac11-9f82-4734-bcd5-c1ab8c4d715a"
   },
   "outputs": [
    {
     "name": "stdout",
     "output_type": "stream",
     "text": [
      "              precision    recall  f1-score   support\n",
      "\n",
      "           0       1.00      0.98      0.99       135\n",
      "           1       0.83      1.00      0.91        15\n",
      "\n",
      "    accuracy                           0.98       150\n",
      "   macro avg       0.92      0.99      0.95       150\n",
      "weighted avg       0.98      0.98      0.98       150\n",
      "\n",
      "CPU times: user 11.8 ms, sys: 0 ns, total: 11.8 ms\n",
      "Wall time: 13.5 ms\n"
     ]
    }
   ],
   "source": [
    "%%time\n",
    "# Посмотрим на результат метрики\n",
    "from sklearn.metrics import classification_report\n",
    "pred = grid_rfc.best_estimator_.predict(features_test)\n",
    "print(classification_report(target_test, pred))"
   ]
  },
  {
   "cell_type": "code",
   "execution_count": 40,
   "metadata": {
    "colab": {
     "base_uri": "https://localhost:8080/"
    },
    "id": "eY8MCVU3QFX7",
    "outputId": "4ea7d0b5-c023-484a-c8e5-19a38ad3f809"
   },
   "outputs": [
    {
     "name": "stdout",
     "output_type": "stream",
     "text": [
      "F1 метрика лучшей модели: 0.9090909090909091\n",
      "CPU times: user 8.67 ms, sys: 827 µs, total: 9.5 ms\n",
      "Wall time: 9.98 ms\n"
     ]
    }
   ],
   "source": [
    "%%time\n",
    "# Получим предсказание\n",
    "pred = grid_rfc.best_estimator_.predict(features_test)\n",
    "print('F1 метрика лучшей модели:', f1_score(target_test, pred))"
   ]
  },
  {
   "cell_type": "markdown",
   "metadata": {
    "id": "VZvjGeLAQFX7"
   },
   "source": [
    "## Выводы"
   ]
  },
  {
   "cell_type": "markdown",
   "metadata": {
    "id": "NUuCeIvGQFX8"
   },
   "source": [
    "Предобработку текстов я не проводил. Проверили пропуски и дубликаты. Средняя длина сообщений 393 символа, максимальная длинна 5000 символов. Сделали выборки из 600 сообщений, для ускорения процесса. Пребразовали в токены и ограничили их длинну, чтобы модель BERT заработала. Получили итоговую матрицу Эмбэдингов. \n",
    "\n",
    "<p>Провели обучение разных моделей и получили следующие результаты на обучающей выборке:</p>\n",
    "\n",
    "| Модель | Показатель F1|\n",
    "| --- | --- |\n",
    "| Логистической регрессия | 0.9459 |\n",
    "| Логистической регрессия Pipeline | 0.9554 | \n",
    "| Случайный лес | 0.9660 |\n",
    "| CatBoost Regressor | 0.9632 |\n",
    "\n",
    "Лучший результат, от модели Случайного леса - F1 метрика лучшей модели: 0.9090909090909091\n",
    "Работа в ГУГЛCOLAB\n",
    "https://colab.research.google.com/drive/1EuVKONpoghtmZSUJZwy9x63ea8aha6G6#scrollTo=rs1rLAYJPRv5 \n",
    "\n",
    "Как видно из результатов, Лучший результат показала модель - Логистической регрессия Pipeline. "
   ]
  },
  {
   "cell_type": "code",
   "execution_count": 40,
   "metadata": {
    "id": "zk5g_PxIQFX9"
   },
   "outputs": [],
   "source": []
  }
 ],
 "metadata": {
  "ExecuteTimeLog": [
   {
    "duration": 4484,
    "start_time": "2023-05-25T20:45:55.865Z"
   },
   {
    "duration": 0,
    "start_time": "2023-05-25T20:46:00.350Z"
   },
   {
    "duration": 0,
    "start_time": "2023-05-25T20:46:00.352Z"
   },
   {
    "duration": 835,
    "start_time": "2023-05-25T20:47:00.734Z"
   },
   {
    "duration": 6906,
    "start_time": "2023-05-25T20:47:05.653Z"
   },
   {
    "duration": 2149,
    "start_time": "2023-05-25T20:47:17.173Z"
   },
   {
    "duration": 29,
    "start_time": "2023-05-25T20:47:19.326Z"
   },
   {
    "duration": 832,
    "start_time": "2023-05-25T20:47:27.415Z"
   },
   {
    "duration": 4,
    "start_time": "2023-05-25T20:47:57.600Z"
   },
   {
    "duration": 2102,
    "start_time": "2023-05-25T20:47:58.666Z"
   },
   {
    "duration": 3,
    "start_time": "2023-05-25T20:48:20.761Z"
   },
   {
    "duration": 861,
    "start_time": "2023-05-25T20:48:21.277Z"
   },
   {
    "duration": 27,
    "start_time": "2023-05-25T20:48:22.141Z"
   },
   {
    "duration": 14,
    "start_time": "2023-05-25T20:48:23.068Z"
   },
   {
    "duration": 234,
    "start_time": "2023-05-25T20:48:24.170Z"
   },
   {
    "duration": 63,
    "start_time": "2023-05-25T20:48:26.120Z"
   },
   {
    "duration": 394,
    "start_time": "2023-05-25T20:48:27.557Z"
   },
   {
    "duration": 13,
    "start_time": "2023-05-25T20:48:29.060Z"
   },
   {
    "duration": 11,
    "start_time": "2023-05-25T20:48:30.160Z"
   },
   {
    "duration": 27,
    "start_time": "2023-05-25T20:48:37.511Z"
   },
   {
    "duration": 4,
    "start_time": "2023-05-25T20:48:38.223Z"
   },
   {
    "duration": 6,
    "start_time": "2023-05-25T20:48:39.199Z"
   },
   {
    "duration": 47,
    "start_time": "2023-05-25T20:48:41.560Z"
   },
   {
    "duration": 9497,
    "start_time": "2023-05-25T20:49:28.756Z"
   },
   {
    "duration": 73,
    "start_time": "2023-05-26T11:18:52.158Z"
   },
   {
    "duration": 5069,
    "start_time": "2023-05-26T11:18:56.505Z"
   },
   {
    "duration": 18840,
    "start_time": "2023-05-26T11:19:01.578Z"
   },
   {
    "duration": 70,
    "start_time": "2023-05-28T11:58:56.247Z"
   },
   {
    "duration": 83,
    "start_time": "2023-05-28T15:56:57.247Z"
   },
   {
    "duration": 4341,
    "start_time": "2023-05-28T15:58:42.415Z"
   },
   {
    "duration": 75,
    "start_time": "2023-05-28T16:00:49.848Z"
   },
   {
    "duration": 334,
    "start_time": "2023-05-28T16:06:08.451Z"
   },
   {
    "duration": 66,
    "start_time": "2023-05-28T16:06:22.466Z"
   },
   {
    "duration": 2174,
    "start_time": "2023-05-28T16:06:42.704Z"
   },
   {
    "duration": 25,
    "start_time": "2023-05-28T16:06:45.208Z"
   },
   {
    "duration": 11,
    "start_time": "2023-05-28T16:06:45.959Z"
   },
   {
    "duration": 219,
    "start_time": "2023-05-28T16:06:46.656Z"
   },
   {
    "duration": 61,
    "start_time": "2023-05-28T16:06:47.952Z"
   },
   {
    "duration": 211,
    "start_time": "2023-05-28T16:06:48.719Z"
   },
   {
    "duration": 12,
    "start_time": "2023-05-28T16:06:49.862Z"
   },
   {
    "duration": 11,
    "start_time": "2023-05-28T16:06:51.656Z"
   },
   {
    "duration": 14,
    "start_time": "2023-05-28T16:06:53.072Z"
   },
   {
    "duration": 24,
    "start_time": "2023-05-28T16:06:55.565Z"
   },
   {
    "duration": 4,
    "start_time": "2023-05-28T16:07:56.502Z"
   },
   {
    "duration": 792,
    "start_time": "2023-05-28T16:07:58.344Z"
   },
   {
    "duration": 18,
    "start_time": "2023-05-28T16:07:59.138Z"
   },
   {
    "duration": 7,
    "start_time": "2023-05-28T16:07:59.695Z"
   },
   {
    "duration": 240,
    "start_time": "2023-05-28T16:08:00.417Z"
   },
   {
    "duration": 61,
    "start_time": "2023-05-28T16:08:00.992Z"
   },
   {
    "duration": 329,
    "start_time": "2023-05-28T16:08:01.870Z"
   },
   {
    "duration": 12,
    "start_time": "2023-05-28T16:08:02.889Z"
   },
   {
    "duration": 11,
    "start_time": "2023-05-28T16:08:04.173Z"
   },
   {
    "duration": 15,
    "start_time": "2023-05-28T16:08:05.809Z"
   },
   {
    "duration": 25,
    "start_time": "2023-05-28T16:08:07.580Z"
   },
   {
    "duration": 5,
    "start_time": "2023-05-28T16:08:09.371Z"
   },
   {
    "duration": 6,
    "start_time": "2023-05-28T16:08:11.044Z"
   },
   {
    "duration": 46,
    "start_time": "2023-05-28T16:08:13.556Z"
   },
   {
    "duration": 13645,
    "start_time": "2023-05-28T16:08:15.056Z"
   },
   {
    "duration": 45,
    "start_time": "2023-05-28T16:08:39.911Z"
   },
   {
    "duration": 44,
    "start_time": "2023-05-28T16:09:14.936Z"
   },
   {
    "duration": 3,
    "start_time": "2023-05-28T16:09:32.645Z"
   },
   {
    "duration": 736,
    "start_time": "2023-05-28T16:09:34.871Z"
   },
   {
    "duration": 20,
    "start_time": "2023-05-28T16:09:35.609Z"
   },
   {
    "duration": 6,
    "start_time": "2023-05-28T16:09:35.894Z"
   },
   {
    "duration": 215,
    "start_time": "2023-05-28T16:09:36.557Z"
   },
   {
    "duration": 64,
    "start_time": "2023-05-28T16:09:37.080Z"
   },
   {
    "duration": 195,
    "start_time": "2023-05-28T16:09:37.681Z"
   },
   {
    "duration": 12,
    "start_time": "2023-05-28T16:09:38.295Z"
   },
   {
    "duration": 8,
    "start_time": "2023-05-28T16:09:40.057Z"
   },
   {
    "duration": 12,
    "start_time": "2023-05-28T16:09:41.664Z"
   },
   {
    "duration": 22,
    "start_time": "2023-05-28T16:09:45.160Z"
   },
   {
    "duration": 3,
    "start_time": "2023-05-28T16:09:47.179Z"
   },
   {
    "duration": 6,
    "start_time": "2023-05-28T16:09:49.937Z"
   },
   {
    "duration": 39,
    "start_time": "2023-05-28T16:09:56.648Z"
   },
   {
    "duration": 6587,
    "start_time": "2023-05-28T16:10:02.686Z"
   },
   {
    "duration": 50,
    "start_time": "2023-05-28T16:10:13.145Z"
   },
   {
    "duration": 6,
    "start_time": "2023-05-28T16:10:15.980Z"
   },
   {
    "duration": 23,
    "start_time": "2023-05-28T16:10:30.647Z"
   },
   {
    "duration": 227,
    "start_time": "2023-05-28T16:10:41.374Z"
   },
   {
    "duration": 12,
    "start_time": "2023-05-28T16:10:48.315Z"
   },
   {
    "duration": 72,
    "start_time": "2023-05-28T16:18:25.449Z"
   },
   {
    "duration": 75,
    "start_time": "2023-05-28T16:19:26.366Z"
   },
   {
    "duration": 73,
    "start_time": "2023-05-28T16:21:17.863Z"
   },
   {
    "duration": 73,
    "start_time": "2023-05-28T19:23:38.335Z"
   },
   {
    "duration": 57,
    "start_time": "2023-05-29T06:06:41.762Z"
   },
   {
    "duration": 2552,
    "start_time": "2023-05-29T11:20:30.543Z"
   },
   {
    "duration": 7557,
    "start_time": "2023-05-29T11:20:33.097Z"
   },
   {
    "duration": 3921,
    "start_time": "2023-05-29T11:20:40.658Z"
   },
   {
    "duration": 36,
    "start_time": "2023-05-29T11:20:44.581Z"
   },
   {
    "duration": 11,
    "start_time": "2023-05-29T11:20:44.620Z"
   },
   {
    "duration": 265,
    "start_time": "2023-05-29T11:20:44.633Z"
   },
   {
    "duration": 98,
    "start_time": "2023-05-29T11:20:44.899Z"
   },
   {
    "duration": 307,
    "start_time": "2023-05-29T11:20:44.999Z"
   },
   {
    "duration": 15,
    "start_time": "2023-05-29T11:20:45.308Z"
   },
   {
    "duration": 44,
    "start_time": "2023-05-29T11:20:45.325Z"
   },
   {
    "duration": 22,
    "start_time": "2023-05-29T11:20:45.372Z"
   },
   {
    "duration": 39,
    "start_time": "2023-05-29T11:20:45.396Z"
   },
   {
    "duration": 4,
    "start_time": "2023-05-29T11:20:45.437Z"
   },
   {
    "duration": 26,
    "start_time": "2023-05-29T11:20:45.444Z"
   },
   {
    "duration": 91,
    "start_time": "2023-05-29T11:20:45.472Z"
   },
   {
    "duration": 14831,
    "start_time": "2023-05-29T11:20:45.565Z"
   },
   {
    "duration": 68,
    "start_time": "2023-05-29T11:21:00.398Z"
   },
   {
    "duration": 9,
    "start_time": "2023-05-29T11:21:00.469Z"
   },
   {
    "duration": 312,
    "start_time": "2023-05-29T11:21:00.481Z"
   },
   {
    "duration": 30,
    "start_time": "2023-05-29T11:21:00.795Z"
   },
   {
    "duration": 2589,
    "start_time": "2023-05-29T11:21:47.612Z"
   },
   {
    "duration": 7375,
    "start_time": "2023-05-29T11:21:50.203Z"
   },
   {
    "duration": 4217,
    "start_time": "2023-05-29T11:21:57.579Z"
   },
   {
    "duration": 43,
    "start_time": "2023-05-29T11:22:01.799Z"
   },
   {
    "duration": 60,
    "start_time": "2023-05-29T11:22:01.845Z"
   },
   {
    "duration": 282,
    "start_time": "2023-05-29T11:22:01.907Z"
   },
   {
    "duration": 96,
    "start_time": "2023-05-29T11:22:02.191Z"
   },
   {
    "duration": 313,
    "start_time": "2023-05-29T11:22:02.289Z"
   },
   {
    "duration": 14,
    "start_time": "2023-05-29T11:22:02.604Z"
   },
   {
    "duration": 56,
    "start_time": "2023-05-29T11:22:02.620Z"
   },
   {
    "duration": 47,
    "start_time": "2023-05-29T11:22:02.678Z"
   },
   {
    "duration": 36,
    "start_time": "2023-05-29T11:22:02.727Z"
   },
   {
    "duration": 23,
    "start_time": "2023-05-29T11:22:02.765Z"
   },
   {
    "duration": 11,
    "start_time": "2023-05-29T11:22:02.792Z"
   },
   {
    "duration": 92,
    "start_time": "2023-05-29T11:22:02.804Z"
   },
   {
    "duration": 14215,
    "start_time": "2023-05-29T11:22:02.898Z"
   },
   {
    "duration": 61,
    "start_time": "2023-05-29T11:22:17.115Z"
   },
   {
    "duration": 8,
    "start_time": "2023-05-29T11:22:17.177Z"
   },
   {
    "duration": 294,
    "start_time": "2023-05-29T11:22:17.187Z"
   },
   {
    "duration": 62,
    "start_time": "2023-05-29T12:47:29.132Z"
   }
  ],
  "colab": {
   "provenance": []
  },
  "kernelspec": {
   "display_name": "Python 3 (ipykernel)",
   "language": "python",
   "name": "python3"
  },
  "language_info": {
   "codemirror_mode": {
    "name": "ipython",
    "version": 3
   },
   "file_extension": ".py",
   "mimetype": "text/x-python",
   "name": "python",
   "nbconvert_exporter": "python",
   "pygments_lexer": "ipython3",
   "version": "3.10.9"
  },
  "toc": {
   "base_numbering": 1,
   "nav_menu": {},
   "number_sections": true,
   "sideBar": true,
   "skip_h1_title": true,
   "title_cell": "Содержание",
   "title_sidebar": "Contents",
   "toc_cell": true,
   "toc_position": {
    "height": "calc(100% - 180px)",
    "left": "10px",
    "top": "150px",
    "width": "302.391px"
   },
   "toc_section_display": true,
   "toc_window_display": false
  },
  "widgets": {
   "application/vnd.jupyter.widget-state+json": {
    "01f459c1e73147408ea033b9c1bf8375": {
     "model_module": "@jupyter-widgets/base",
     "model_module_version": "1.2.0",
     "model_name": "LayoutModel",
     "state": {
      "_model_module": "@jupyter-widgets/base",
      "_model_module_version": "1.2.0",
      "_model_name": "LayoutModel",
      "_view_count": null,
      "_view_module": "@jupyter-widgets/base",
      "_view_module_version": "1.2.0",
      "_view_name": "LayoutView",
      "align_content": null,
      "align_items": null,
      "align_self": null,
      "border": null,
      "bottom": null,
      "display": null,
      "flex": null,
      "flex_flow": null,
      "grid_area": null,
      "grid_auto_columns": null,
      "grid_auto_flow": null,
      "grid_auto_rows": null,
      "grid_column": null,
      "grid_gap": null,
      "grid_row": null,
      "grid_template_areas": null,
      "grid_template_columns": null,
      "grid_template_rows": null,
      "height": null,
      "justify_content": null,
      "justify_items": null,
      "left": null,
      "margin": null,
      "max_height": null,
      "max_width": null,
      "min_height": null,
      "min_width": null,
      "object_fit": null,
      "object_position": null,
      "order": null,
      "overflow": null,
      "overflow_x": null,
      "overflow_y": null,
      "padding": null,
      "right": null,
      "top": null,
      "visibility": null,
      "width": null
     }
    },
    "07b5e7ea11844e24ab507e6445d1c86e": {
     "model_module": "@jupyter-widgets/controls",
     "model_module_version": "1.5.0",
     "model_name": "DescriptionStyleModel",
     "state": {
      "_model_module": "@jupyter-widgets/controls",
      "_model_module_version": "1.5.0",
      "_model_name": "DescriptionStyleModel",
      "_view_count": null,
      "_view_module": "@jupyter-widgets/base",
      "_view_module_version": "1.2.0",
      "_view_name": "StyleView",
      "description_width": ""
     }
    },
    "07b97eacdff54e2abd421a30242b391b": {
     "model_module": "@jupyter-widgets/controls",
     "model_module_version": "1.5.0",
     "model_name": "ProgressStyleModel",
     "state": {
      "_model_module": "@jupyter-widgets/controls",
      "_model_module_version": "1.5.0",
      "_model_name": "ProgressStyleModel",
      "_view_count": null,
      "_view_module": "@jupyter-widgets/base",
      "_view_module_version": "1.2.0",
      "_view_name": "StyleView",
      "bar_color": null,
      "description_width": ""
     }
    },
    "080e06bc1ee04e879b37f72026a15516": {
     "model_module": "@jupyter-widgets/controls",
     "model_module_version": "1.5.0",
     "model_name": "HTMLModel",
     "state": {
      "_dom_classes": [],
      "_model_module": "@jupyter-widgets/controls",
      "_model_module_version": "1.5.0",
      "_model_name": "HTMLModel",
      "_view_count": null,
      "_view_module": "@jupyter-widgets/controls",
      "_view_module_version": "1.5.0",
      "_view_name": "HTMLView",
      "description": "",
      "description_tooltip": null,
      "layout": "IPY_MODEL_6f907b70205b4aa885587e4a23f28043",
      "placeholder": "​",
      "style": "IPY_MODEL_4a961c2dda0745daa9b7d7928dfe0467",
      "value": "100%"
     }
    },
    "099e5394e746429595fa3712c60ffe0a": {
     "model_module": "@jupyter-widgets/controls",
     "model_module_version": "1.5.0",
     "model_name": "HTMLModel",
     "state": {
      "_dom_classes": [],
      "_model_module": "@jupyter-widgets/controls",
      "_model_module_version": "1.5.0",
      "_model_name": "HTMLModel",
      "_view_count": null,
      "_view_module": "@jupyter-widgets/controls",
      "_view_module_version": "1.5.0",
      "_view_name": "HTMLView",
      "description": "",
      "description_tooltip": null,
      "layout": "IPY_MODEL_4f39add4c8294215b8093dfaa96c9126",
      "placeholder": "​",
      "style": "IPY_MODEL_e2015b2d5e76423b988fb5a9a398a855",
      "value": "Downloading pytorch_model.bin: 100%"
     }
    },
    "09b177d16f0940bc99f3558e0b809ac5": {
     "model_module": "@jupyter-widgets/controls",
     "model_module_version": "1.5.0",
     "model_name": "FloatProgressModel",
     "state": {
      "_dom_classes": [],
      "_model_module": "@jupyter-widgets/controls",
      "_model_module_version": "1.5.0",
      "_model_name": "FloatProgressModel",
      "_view_count": null,
      "_view_module": "@jupyter-widgets/controls",
      "_view_module_version": "1.5.0",
      "_view_name": "ProgressView",
      "bar_style": "success",
      "description": "",
      "description_tooltip": null,
      "layout": "IPY_MODEL_01f459c1e73147408ea033b9c1bf8375",
      "max": 438033929,
      "min": 0,
      "orientation": "horizontal",
      "style": "IPY_MODEL_827817c80cd9495484a1ddde7569511d",
      "value": 438033929
     }
    },
    "0a6690366a014d2ea9089a5ce68241d7": {
     "model_module": "@jupyter-widgets/controls",
     "model_module_version": "1.5.0",
     "model_name": "FloatProgressModel",
     "state": {
      "_dom_classes": [],
      "_model_module": "@jupyter-widgets/controls",
      "_model_module_version": "1.5.0",
      "_model_name": "FloatProgressModel",
      "_view_count": null,
      "_view_module": "@jupyter-widgets/controls",
      "_view_module_version": "1.5.0",
      "_view_name": "ProgressView",
      "bar_style": "success",
      "description": "",
      "description_tooltip": null,
      "layout": "IPY_MODEL_ee7ac2349f164ba1af34f3aba322637d",
      "max": 112,
      "min": 0,
      "orientation": "horizontal",
      "style": "IPY_MODEL_07b97eacdff54e2abd421a30242b391b",
      "value": 112
     }
    },
    "0d89258f90b643188184451751a84e1e": {
     "model_module": "@jupyter-widgets/controls",
     "model_module_version": "1.5.0",
     "model_name": "HTMLModel",
     "state": {
      "_dom_classes": [],
      "_model_module": "@jupyter-widgets/controls",
      "_model_module_version": "1.5.0",
      "_model_name": "HTMLModel",
      "_view_count": null,
      "_view_module": "@jupyter-widgets/controls",
      "_view_module_version": "1.5.0",
      "_view_name": "HTMLView",
      "description": "",
      "description_tooltip": null,
      "layout": "IPY_MODEL_df40cfbac2394a78952ab50363b1935c",
      "placeholder": "​",
      "style": "IPY_MODEL_c4ca4e39f2164074b2fbb95e2599b9a8",
      "value": " 232k/232k [00:00&lt;00:00, 4.74MB/s]"
     }
    },
    "11967e43a90e41afb7621141bf19ac7e": {
     "model_module": "@jupyter-widgets/controls",
     "model_module_version": "1.5.0",
     "model_name": "DescriptionStyleModel",
     "state": {
      "_model_module": "@jupyter-widgets/controls",
      "_model_module_version": "1.5.0",
      "_model_name": "DescriptionStyleModel",
      "_view_count": null,
      "_view_module": "@jupyter-widgets/base",
      "_view_module_version": "1.2.0",
      "_view_name": "StyleView",
      "description_width": ""
     }
    },
    "12a1ea5d07654b3f97165142ffe7edb7": {
     "model_module": "@jupyter-widgets/base",
     "model_module_version": "1.2.0",
     "model_name": "LayoutModel",
     "state": {
      "_model_module": "@jupyter-widgets/base",
      "_model_module_version": "1.2.0",
      "_model_name": "LayoutModel",
      "_view_count": null,
      "_view_module": "@jupyter-widgets/base",
      "_view_module_version": "1.2.0",
      "_view_name": "LayoutView",
      "align_content": null,
      "align_items": null,
      "align_self": null,
      "border": null,
      "bottom": null,
      "display": null,
      "flex": null,
      "flex_flow": null,
      "grid_area": null,
      "grid_auto_columns": null,
      "grid_auto_flow": null,
      "grid_auto_rows": null,
      "grid_column": null,
      "grid_gap": null,
      "grid_row": null,
      "grid_template_areas": null,
      "grid_template_columns": null,
      "grid_template_rows": null,
      "height": null,
      "justify_content": null,
      "justify_items": null,
      "left": null,
      "margin": null,
      "max_height": null,
      "max_width": null,
      "min_height": null,
      "min_width": null,
      "object_fit": null,
      "object_position": null,
      "order": null,
      "overflow": null,
      "overflow_x": null,
      "overflow_y": null,
      "padding": null,
      "right": null,
      "top": null,
      "visibility": null,
      "width": null
     }
    },
    "1552f41f632441f18cdc912958093419": {
     "model_module": "@jupyter-widgets/base",
     "model_module_version": "1.2.0",
     "model_name": "LayoutModel",
     "state": {
      "_model_module": "@jupyter-widgets/base",
      "_model_module_version": "1.2.0",
      "_model_name": "LayoutModel",
      "_view_count": null,
      "_view_module": "@jupyter-widgets/base",
      "_view_module_version": "1.2.0",
      "_view_name": "LayoutView",
      "align_content": null,
      "align_items": null,
      "align_self": null,
      "border": null,
      "bottom": null,
      "display": null,
      "flex": null,
      "flex_flow": null,
      "grid_area": null,
      "grid_auto_columns": null,
      "grid_auto_flow": null,
      "grid_auto_rows": null,
      "grid_column": null,
      "grid_gap": null,
      "grid_row": null,
      "grid_template_areas": null,
      "grid_template_columns": null,
      "grid_template_rows": null,
      "height": null,
      "justify_content": null,
      "justify_items": null,
      "left": null,
      "margin": null,
      "max_height": null,
      "max_width": null,
      "min_height": null,
      "min_width": null,
      "object_fit": null,
      "object_position": null,
      "order": null,
      "overflow": null,
      "overflow_x": null,
      "overflow_y": null,
      "padding": null,
      "right": null,
      "top": null,
      "visibility": null,
      "width": null
     }
    },
    "15979ba5de43423b976c528b6c7c6411": {
     "model_module": "@jupyter-widgets/controls",
     "model_module_version": "1.5.0",
     "model_name": "DescriptionStyleModel",
     "state": {
      "_model_module": "@jupyter-widgets/controls",
      "_model_module_version": "1.5.0",
      "_model_name": "DescriptionStyleModel",
      "_view_count": null,
      "_view_module": "@jupyter-widgets/base",
      "_view_module_version": "1.2.0",
      "_view_name": "StyleView",
      "description_width": ""
     }
    },
    "17249f416fa04023a9aa45dbbfb1af12": {
     "model_module": "@jupyter-widgets/base",
     "model_module_version": "1.2.0",
     "model_name": "LayoutModel",
     "state": {
      "_model_module": "@jupyter-widgets/base",
      "_model_module_version": "1.2.0",
      "_model_name": "LayoutModel",
      "_view_count": null,
      "_view_module": "@jupyter-widgets/base",
      "_view_module_version": "1.2.0",
      "_view_name": "LayoutView",
      "align_content": null,
      "align_items": null,
      "align_self": null,
      "border": null,
      "bottom": null,
      "display": null,
      "flex": null,
      "flex_flow": null,
      "grid_area": null,
      "grid_auto_columns": null,
      "grid_auto_flow": null,
      "grid_auto_rows": null,
      "grid_column": null,
      "grid_gap": null,
      "grid_row": null,
      "grid_template_areas": null,
      "grid_template_columns": null,
      "grid_template_rows": null,
      "height": null,
      "justify_content": null,
      "justify_items": null,
      "left": null,
      "margin": null,
      "max_height": null,
      "max_width": null,
      "min_height": null,
      "min_width": null,
      "object_fit": null,
      "object_position": null,
      "order": null,
      "overflow": null,
      "overflow_x": null,
      "overflow_y": null,
      "padding": null,
      "right": null,
      "top": null,
      "visibility": null,
      "width": null
     }
    },
    "1fd750dada7843c79caf9f97f45d1725": {
     "model_module": "@jupyter-widgets/controls",
     "model_module_version": "1.5.0",
     "model_name": "HTMLModel",
     "state": {
      "_dom_classes": [],
      "_model_module": "@jupyter-widgets/controls",
      "_model_module_version": "1.5.0",
      "_model_name": "HTMLModel",
      "_view_count": null,
      "_view_module": "@jupyter-widgets/controls",
      "_view_module_version": "1.5.0",
      "_view_name": "HTMLView",
      "description": "",
      "description_tooltip": null,
      "layout": "IPY_MODEL_6ef0c707b7624910b69fa1e8d3f7ca61",
      "placeholder": "​",
      "style": "IPY_MODEL_66943d11df8c451a9566356b56ef2a25",
      "value": "Downloading (…)cial_tokens_map.json: 100%"
     }
    },
    "209f7ec7dc8e4b53863cf0e05fdbca71": {
     "model_module": "@jupyter-widgets/controls",
     "model_module_version": "1.5.0",
     "model_name": "ProgressStyleModel",
     "state": {
      "_model_module": "@jupyter-widgets/controls",
      "_model_module_version": "1.5.0",
      "_model_name": "ProgressStyleModel",
      "_view_count": null,
      "_view_module": "@jupyter-widgets/base",
      "_view_module_version": "1.2.0",
      "_view_name": "StyleView",
      "bar_color": null,
      "description_width": ""
     }
    },
    "21ffe2b41c144eceb81731a38813eca3": {
     "model_module": "@jupyter-widgets/controls",
     "model_module_version": "1.5.0",
     "model_name": "HTMLModel",
     "state": {
      "_dom_classes": [],
      "_model_module": "@jupyter-widgets/controls",
      "_model_module_version": "1.5.0",
      "_model_name": "HTMLModel",
      "_view_count": null,
      "_view_module": "@jupyter-widgets/controls",
      "_view_module_version": "1.5.0",
      "_view_name": "HTMLView",
      "description": "",
      "description_tooltip": null,
      "layout": "IPY_MODEL_edee716348564e3683896dc5e7979018",
      "placeholder": "​",
      "style": "IPY_MODEL_11967e43a90e41afb7621141bf19ac7e",
      "value": "Downloading (…)okenizer_config.json: 100%"
     }
    },
    "22e55cdd7a19432da8d5460588226176": {
     "model_module": "@jupyter-widgets/base",
     "model_module_version": "1.2.0",
     "model_name": "LayoutModel",
     "state": {
      "_model_module": "@jupyter-widgets/base",
      "_model_module_version": "1.2.0",
      "_model_name": "LayoutModel",
      "_view_count": null,
      "_view_module": "@jupyter-widgets/base",
      "_view_module_version": "1.2.0",
      "_view_name": "LayoutView",
      "align_content": null,
      "align_items": null,
      "align_self": null,
      "border": null,
      "bottom": null,
      "display": null,
      "flex": null,
      "flex_flow": null,
      "grid_area": null,
      "grid_auto_columns": null,
      "grid_auto_flow": null,
      "grid_auto_rows": null,
      "grid_column": null,
      "grid_gap": null,
      "grid_row": null,
      "grid_template_areas": null,
      "grid_template_columns": null,
      "grid_template_rows": null,
      "height": null,
      "justify_content": null,
      "justify_items": null,
      "left": null,
      "margin": null,
      "max_height": null,
      "max_width": null,
      "min_height": null,
      "min_width": null,
      "object_fit": null,
      "object_position": null,
      "order": null,
      "overflow": null,
      "overflow_x": null,
      "overflow_y": null,
      "padding": null,
      "right": null,
      "top": null,
      "visibility": null,
      "width": null
     }
    },
    "27abde319a96486d9760c329bb71783d": {
     "model_module": "@jupyter-widgets/controls",
     "model_module_version": "1.5.0",
     "model_name": "HBoxModel",
     "state": {
      "_dom_classes": [],
      "_model_module": "@jupyter-widgets/controls",
      "_model_module_version": "1.5.0",
      "_model_name": "HBoxModel",
      "_view_count": null,
      "_view_module": "@jupyter-widgets/controls",
      "_view_module_version": "1.5.0",
      "_view_name": "HBoxView",
      "box_style": "",
      "children": [
       "IPY_MODEL_a6ba462c54924647b048ef195370f0b8",
       "IPY_MODEL_f7710df22fa14f67a80d2a28bbffa109",
       "IPY_MODEL_51d9cf18cd1c4ee3a69dab54506788b2"
      ],
      "layout": "IPY_MODEL_d678e7e16beb4889abffabdb5bf2239e"
     }
    },
    "29645b9bd70740eb8ecfc82257708ecb": {
     "model_module": "@jupyter-widgets/controls",
     "model_module_version": "1.5.0",
     "model_name": "HTMLModel",
     "state": {
      "_dom_classes": [],
      "_model_module": "@jupyter-widgets/controls",
      "_model_module_version": "1.5.0",
      "_model_name": "HTMLModel",
      "_view_count": null,
      "_view_module": "@jupyter-widgets/controls",
      "_view_module_version": "1.5.0",
      "_view_name": "HTMLView",
      "description": "",
      "description_tooltip": null,
      "layout": "IPY_MODEL_b7c79e08b2c54edfb57d576f12f5fece",
      "placeholder": "​",
      "style": "IPY_MODEL_6fadfda064234540b379a41d664d4d74",
      "value": " 112/112 [00:00&lt;00:00, 5.60kB/s]"
     }
    },
    "30c0b43ab9734d28a4f1968dfda82741": {
     "model_module": "@jupyter-widgets/controls",
     "model_module_version": "1.5.0",
     "model_name": "FloatProgressModel",
     "state": {
      "_dom_classes": [],
      "_model_module": "@jupyter-widgets/controls",
      "_model_module_version": "1.5.0",
      "_model_name": "FloatProgressModel",
      "_view_count": null,
      "_view_module": "@jupyter-widgets/controls",
      "_view_module_version": "1.5.0",
      "_view_name": "ProgressView",
      "bar_style": "success",
      "description": "",
      "description_tooltip": null,
      "layout": "IPY_MODEL_17249f416fa04023a9aa45dbbfb1af12",
      "max": 6,
      "min": 0,
      "orientation": "horizontal",
      "style": "IPY_MODEL_42a4488999b048db82692696f1ae2e6f",
      "value": 6
     }
    },
    "35218a2cc3fb4723a888f1b41e61be07": {
     "model_module": "@jupyter-widgets/controls",
     "model_module_version": "1.5.0",
     "model_name": "FloatProgressModel",
     "state": {
      "_dom_classes": [],
      "_model_module": "@jupyter-widgets/controls",
      "_model_module_version": "1.5.0",
      "_model_name": "FloatProgressModel",
      "_view_count": null,
      "_view_module": "@jupyter-widgets/controls",
      "_view_module_version": "1.5.0",
      "_view_name": "ProgressView",
      "bar_style": "success",
      "description": "",
      "description_tooltip": null,
      "layout": "IPY_MODEL_798d519a28da493aa3b03386c2fda08d",
      "max": 231508,
      "min": 0,
      "orientation": "horizontal",
      "style": "IPY_MODEL_209f7ec7dc8e4b53863cf0e05fdbca71",
      "value": 231508
     }
    },
    "38728b4df31a4765abf3019cd50f3bcb": {
     "model_module": "@jupyter-widgets/controls",
     "model_module_version": "1.5.0",
     "model_name": "DescriptionStyleModel",
     "state": {
      "_model_module": "@jupyter-widgets/controls",
      "_model_module_version": "1.5.0",
      "_model_name": "DescriptionStyleModel",
      "_view_count": null,
      "_view_module": "@jupyter-widgets/base",
      "_view_module_version": "1.2.0",
      "_view_name": "StyleView",
      "description_width": ""
     }
    },
    "42a4488999b048db82692696f1ae2e6f": {
     "model_module": "@jupyter-widgets/controls",
     "model_module_version": "1.5.0",
     "model_name": "ProgressStyleModel",
     "state": {
      "_model_module": "@jupyter-widgets/controls",
      "_model_module_version": "1.5.0",
      "_model_name": "ProgressStyleModel",
      "_view_count": null,
      "_view_module": "@jupyter-widgets/base",
      "_view_module_version": "1.2.0",
      "_view_name": "StyleView",
      "bar_color": null,
      "description_width": ""
     }
    },
    "442dcb1c6ad54a68996eb629c6b2875d": {
     "model_module": "@jupyter-widgets/base",
     "model_module_version": "1.2.0",
     "model_name": "LayoutModel",
     "state": {
      "_model_module": "@jupyter-widgets/base",
      "_model_module_version": "1.2.0",
      "_model_name": "LayoutModel",
      "_view_count": null,
      "_view_module": "@jupyter-widgets/base",
      "_view_module_version": "1.2.0",
      "_view_name": "LayoutView",
      "align_content": null,
      "align_items": null,
      "align_self": null,
      "border": null,
      "bottom": null,
      "display": null,
      "flex": null,
      "flex_flow": null,
      "grid_area": null,
      "grid_auto_columns": null,
      "grid_auto_flow": null,
      "grid_auto_rows": null,
      "grid_column": null,
      "grid_gap": null,
      "grid_row": null,
      "grid_template_areas": null,
      "grid_template_columns": null,
      "grid_template_rows": null,
      "height": null,
      "justify_content": null,
      "justify_items": null,
      "left": null,
      "margin": null,
      "max_height": null,
      "max_width": null,
      "min_height": null,
      "min_width": null,
      "object_fit": null,
      "object_position": null,
      "order": null,
      "overflow": null,
      "overflow_x": null,
      "overflow_y": null,
      "padding": null,
      "right": null,
      "top": null,
      "visibility": null,
      "width": null
     }
    },
    "4a961c2dda0745daa9b7d7928dfe0467": {
     "model_module": "@jupyter-widgets/controls",
     "model_module_version": "1.5.0",
     "model_name": "DescriptionStyleModel",
     "state": {
      "_model_module": "@jupyter-widgets/controls",
      "_model_module_version": "1.5.0",
      "_model_name": "DescriptionStyleModel",
      "_view_count": null,
      "_view_module": "@jupyter-widgets/base",
      "_view_module_version": "1.2.0",
      "_view_name": "StyleView",
      "description_width": ""
     }
    },
    "4f39add4c8294215b8093dfaa96c9126": {
     "model_module": "@jupyter-widgets/base",
     "model_module_version": "1.2.0",
     "model_name": "LayoutModel",
     "state": {
      "_model_module": "@jupyter-widgets/base",
      "_model_module_version": "1.2.0",
      "_model_name": "LayoutModel",
      "_view_count": null,
      "_view_module": "@jupyter-widgets/base",
      "_view_module_version": "1.2.0",
      "_view_name": "LayoutView",
      "align_content": null,
      "align_items": null,
      "align_self": null,
      "border": null,
      "bottom": null,
      "display": null,
      "flex": null,
      "flex_flow": null,
      "grid_area": null,
      "grid_auto_columns": null,
      "grid_auto_flow": null,
      "grid_auto_rows": null,
      "grid_column": null,
      "grid_gap": null,
      "grid_row": null,
      "grid_template_areas": null,
      "grid_template_columns": null,
      "grid_template_rows": null,
      "height": null,
      "justify_content": null,
      "justify_items": null,
      "left": null,
      "margin": null,
      "max_height": null,
      "max_width": null,
      "min_height": null,
      "min_width": null,
      "object_fit": null,
      "object_position": null,
      "order": null,
      "overflow": null,
      "overflow_x": null,
      "overflow_y": null,
      "padding": null,
      "right": null,
      "top": null,
      "visibility": null,
      "width": null
     }
    },
    "51d9cf18cd1c4ee3a69dab54506788b2": {
     "model_module": "@jupyter-widgets/controls",
     "model_module_version": "1.5.0",
     "model_name": "HTMLModel",
     "state": {
      "_dom_classes": [],
      "_model_module": "@jupyter-widgets/controls",
      "_model_module_version": "1.5.0",
      "_model_name": "HTMLModel",
      "_view_count": null,
      "_view_module": "@jupyter-widgets/controls",
      "_view_module_version": "1.5.0",
      "_view_name": "HTMLView",
      "description": "",
      "description_tooltip": null,
      "layout": "IPY_MODEL_22e55cdd7a19432da8d5460588226176",
      "placeholder": "​",
      "style": "IPY_MODEL_38728b4df31a4765abf3019cd50f3bcb",
      "value": " 811/811 [00:00&lt;00:00, 54.6kB/s]"
     }
    },
    "53cc75a7754647a3abeb6bf030819098": {
     "model_module": "@jupyter-widgets/base",
     "model_module_version": "1.2.0",
     "model_name": "LayoutModel",
     "state": {
      "_model_module": "@jupyter-widgets/base",
      "_model_module_version": "1.2.0",
      "_model_name": "LayoutModel",
      "_view_count": null,
      "_view_module": "@jupyter-widgets/base",
      "_view_module_version": "1.2.0",
      "_view_name": "LayoutView",
      "align_content": null,
      "align_items": null,
      "align_self": null,
      "border": null,
      "bottom": null,
      "display": null,
      "flex": null,
      "flex_flow": null,
      "grid_area": null,
      "grid_auto_columns": null,
      "grid_auto_flow": null,
      "grid_auto_rows": null,
      "grid_column": null,
      "grid_gap": null,
      "grid_row": null,
      "grid_template_areas": null,
      "grid_template_columns": null,
      "grid_template_rows": null,
      "height": null,
      "justify_content": null,
      "justify_items": null,
      "left": null,
      "margin": null,
      "max_height": null,
      "max_width": null,
      "min_height": null,
      "min_width": null,
      "object_fit": null,
      "object_position": null,
      "order": null,
      "overflow": null,
      "overflow_x": null,
      "overflow_y": null,
      "padding": null,
      "right": null,
      "top": null,
      "visibility": null,
      "width": null
     }
    },
    "5523034f945848c88105c66bbf499826": {
     "model_module": "@jupyter-widgets/controls",
     "model_module_version": "1.5.0",
     "model_name": "HBoxModel",
     "state": {
      "_dom_classes": [],
      "_model_module": "@jupyter-widgets/controls",
      "_model_module_version": "1.5.0",
      "_model_name": "HBoxModel",
      "_view_count": null,
      "_view_module": "@jupyter-widgets/controls",
      "_view_module_version": "1.5.0",
      "_view_name": "HBoxView",
      "box_style": "",
      "children": [
       "IPY_MODEL_1fd750dada7843c79caf9f97f45d1725",
       "IPY_MODEL_0a6690366a014d2ea9089a5ce68241d7",
       "IPY_MODEL_29645b9bd70740eb8ecfc82257708ecb"
      ],
      "layout": "IPY_MODEL_442dcb1c6ad54a68996eb629c6b2875d"
     }
    },
    "65b6dfe70155440e80df7055df0abdfc": {
     "model_module": "@jupyter-widgets/controls",
     "model_module_version": "1.5.0",
     "model_name": "HBoxModel",
     "state": {
      "_dom_classes": [],
      "_model_module": "@jupyter-widgets/controls",
      "_model_module_version": "1.5.0",
      "_model_name": "HBoxModel",
      "_view_count": null,
      "_view_module": "@jupyter-widgets/controls",
      "_view_module_version": "1.5.0",
      "_view_name": "HBoxView",
      "box_style": "",
      "children": [
       "IPY_MODEL_080e06bc1ee04e879b37f72026a15516",
       "IPY_MODEL_30c0b43ab9734d28a4f1968dfda82741",
       "IPY_MODEL_b072e7b6353944c692f68ac4794f0ab3"
      ],
      "layout": "IPY_MODEL_e02b96d78b0c4e27bfc52f12320576f6"
     }
    },
    "66943d11df8c451a9566356b56ef2a25": {
     "model_module": "@jupyter-widgets/controls",
     "model_module_version": "1.5.0",
     "model_name": "DescriptionStyleModel",
     "state": {
      "_model_module": "@jupyter-widgets/controls",
      "_model_module_version": "1.5.0",
      "_model_name": "DescriptionStyleModel",
      "_view_count": null,
      "_view_module": "@jupyter-widgets/base",
      "_view_module_version": "1.2.0",
      "_view_name": "StyleView",
      "description_width": ""
     }
    },
    "6ef0c707b7624910b69fa1e8d3f7ca61": {
     "model_module": "@jupyter-widgets/base",
     "model_module_version": "1.2.0",
     "model_name": "LayoutModel",
     "state": {
      "_model_module": "@jupyter-widgets/base",
      "_model_module_version": "1.2.0",
      "_model_name": "LayoutModel",
      "_view_count": null,
      "_view_module": "@jupyter-widgets/base",
      "_view_module_version": "1.2.0",
      "_view_name": "LayoutView",
      "align_content": null,
      "align_items": null,
      "align_self": null,
      "border": null,
      "bottom": null,
      "display": null,
      "flex": null,
      "flex_flow": null,
      "grid_area": null,
      "grid_auto_columns": null,
      "grid_auto_flow": null,
      "grid_auto_rows": null,
      "grid_column": null,
      "grid_gap": null,
      "grid_row": null,
      "grid_template_areas": null,
      "grid_template_columns": null,
      "grid_template_rows": null,
      "height": null,
      "justify_content": null,
      "justify_items": null,
      "left": null,
      "margin": null,
      "max_height": null,
      "max_width": null,
      "min_height": null,
      "min_width": null,
      "object_fit": null,
      "object_position": null,
      "order": null,
      "overflow": null,
      "overflow_x": null,
      "overflow_y": null,
      "padding": null,
      "right": null,
      "top": null,
      "visibility": null,
      "width": null
     }
    },
    "6f907b70205b4aa885587e4a23f28043": {
     "model_module": "@jupyter-widgets/base",
     "model_module_version": "1.2.0",
     "model_name": "LayoutModel",
     "state": {
      "_model_module": "@jupyter-widgets/base",
      "_model_module_version": "1.2.0",
      "_model_name": "LayoutModel",
      "_view_count": null,
      "_view_module": "@jupyter-widgets/base",
      "_view_module_version": "1.2.0",
      "_view_name": "LayoutView",
      "align_content": null,
      "align_items": null,
      "align_self": null,
      "border": null,
      "bottom": null,
      "display": null,
      "flex": null,
      "flex_flow": null,
      "grid_area": null,
      "grid_auto_columns": null,
      "grid_auto_flow": null,
      "grid_auto_rows": null,
      "grid_column": null,
      "grid_gap": null,
      "grid_row": null,
      "grid_template_areas": null,
      "grid_template_columns": null,
      "grid_template_rows": null,
      "height": null,
      "justify_content": null,
      "justify_items": null,
      "left": null,
      "margin": null,
      "max_height": null,
      "max_width": null,
      "min_height": null,
      "min_width": null,
      "object_fit": null,
      "object_position": null,
      "order": null,
      "overflow": null,
      "overflow_x": null,
      "overflow_y": null,
      "padding": null,
      "right": null,
      "top": null,
      "visibility": null,
      "width": null
     }
    },
    "6fadfda064234540b379a41d664d4d74": {
     "model_module": "@jupyter-widgets/controls",
     "model_module_version": "1.5.0",
     "model_name": "DescriptionStyleModel",
     "state": {
      "_model_module": "@jupyter-widgets/controls",
      "_model_module_version": "1.5.0",
      "_model_name": "DescriptionStyleModel",
      "_view_count": null,
      "_view_module": "@jupyter-widgets/base",
      "_view_module_version": "1.2.0",
      "_view_name": "StyleView",
      "description_width": ""
     }
    },
    "798d519a28da493aa3b03386c2fda08d": {
     "model_module": "@jupyter-widgets/base",
     "model_module_version": "1.2.0",
     "model_name": "LayoutModel",
     "state": {
      "_model_module": "@jupyter-widgets/base",
      "_model_module_version": "1.2.0",
      "_model_name": "LayoutModel",
      "_view_count": null,
      "_view_module": "@jupyter-widgets/base",
      "_view_module_version": "1.2.0",
      "_view_name": "LayoutView",
      "align_content": null,
      "align_items": null,
      "align_self": null,
      "border": null,
      "bottom": null,
      "display": null,
      "flex": null,
      "flex_flow": null,
      "grid_area": null,
      "grid_auto_columns": null,
      "grid_auto_flow": null,
      "grid_auto_rows": null,
      "grid_column": null,
      "grid_gap": null,
      "grid_row": null,
      "grid_template_areas": null,
      "grid_template_columns": null,
      "grid_template_rows": null,
      "height": null,
      "justify_content": null,
      "justify_items": null,
      "left": null,
      "margin": null,
      "max_height": null,
      "max_width": null,
      "min_height": null,
      "min_width": null,
      "object_fit": null,
      "object_position": null,
      "order": null,
      "overflow": null,
      "overflow_x": null,
      "overflow_y": null,
      "padding": null,
      "right": null,
      "top": null,
      "visibility": null,
      "width": null
     }
    },
    "7eeb1801ec9e4bc09552ca33b843c997": {
     "model_module": "@jupyter-widgets/base",
     "model_module_version": "1.2.0",
     "model_name": "LayoutModel",
     "state": {
      "_model_module": "@jupyter-widgets/base",
      "_model_module_version": "1.2.0",
      "_model_name": "LayoutModel",
      "_view_count": null,
      "_view_module": "@jupyter-widgets/base",
      "_view_module_version": "1.2.0",
      "_view_name": "LayoutView",
      "align_content": null,
      "align_items": null,
      "align_self": null,
      "border": null,
      "bottom": null,
      "display": null,
      "flex": null,
      "flex_flow": null,
      "grid_area": null,
      "grid_auto_columns": null,
      "grid_auto_flow": null,
      "grid_auto_rows": null,
      "grid_column": null,
      "grid_gap": null,
      "grid_row": null,
      "grid_template_areas": null,
      "grid_template_columns": null,
      "grid_template_rows": null,
      "height": null,
      "justify_content": null,
      "justify_items": null,
      "left": null,
      "margin": null,
      "max_height": null,
      "max_width": null,
      "min_height": null,
      "min_width": null,
      "object_fit": null,
      "object_position": null,
      "order": null,
      "overflow": null,
      "overflow_x": null,
      "overflow_y": null,
      "padding": null,
      "right": null,
      "top": null,
      "visibility": null,
      "width": null
     }
    },
    "827817c80cd9495484a1ddde7569511d": {
     "model_module": "@jupyter-widgets/controls",
     "model_module_version": "1.5.0",
     "model_name": "ProgressStyleModel",
     "state": {
      "_model_module": "@jupyter-widgets/controls",
      "_model_module_version": "1.5.0",
      "_model_name": "ProgressStyleModel",
      "_view_count": null,
      "_view_module": "@jupyter-widgets/base",
      "_view_module_version": "1.2.0",
      "_view_name": "StyleView",
      "bar_color": null,
      "description_width": ""
     }
    },
    "8a19e6c58b7d4830b9edbf3675f87ad1": {
     "model_module": "@jupyter-widgets/base",
     "model_module_version": "1.2.0",
     "model_name": "LayoutModel",
     "state": {
      "_model_module": "@jupyter-widgets/base",
      "_model_module_version": "1.2.0",
      "_model_name": "LayoutModel",
      "_view_count": null,
      "_view_module": "@jupyter-widgets/base",
      "_view_module_version": "1.2.0",
      "_view_name": "LayoutView",
      "align_content": null,
      "align_items": null,
      "align_self": null,
      "border": null,
      "bottom": null,
      "display": null,
      "flex": null,
      "flex_flow": null,
      "grid_area": null,
      "grid_auto_columns": null,
      "grid_auto_flow": null,
      "grid_auto_rows": null,
      "grid_column": null,
      "grid_gap": null,
      "grid_row": null,
      "grid_template_areas": null,
      "grid_template_columns": null,
      "grid_template_rows": null,
      "height": null,
      "justify_content": null,
      "justify_items": null,
      "left": null,
      "margin": null,
      "max_height": null,
      "max_width": null,
      "min_height": null,
      "min_width": null,
      "object_fit": null,
      "object_position": null,
      "order": null,
      "overflow": null,
      "overflow_x": null,
      "overflow_y": null,
      "padding": null,
      "right": null,
      "top": null,
      "visibility": null,
      "width": null
     }
    },
    "98d2ad8b48f44b638bb4581f21364393": {
     "model_module": "@jupyter-widgets/base",
     "model_module_version": "1.2.0",
     "model_name": "LayoutModel",
     "state": {
      "_model_module": "@jupyter-widgets/base",
      "_model_module_version": "1.2.0",
      "_model_name": "LayoutModel",
      "_view_count": null,
      "_view_module": "@jupyter-widgets/base",
      "_view_module_version": "1.2.0",
      "_view_name": "LayoutView",
      "align_content": null,
      "align_items": null,
      "align_self": null,
      "border": null,
      "bottom": null,
      "display": null,
      "flex": null,
      "flex_flow": null,
      "grid_area": null,
      "grid_auto_columns": null,
      "grid_auto_flow": null,
      "grid_auto_rows": null,
      "grid_column": null,
      "grid_gap": null,
      "grid_row": null,
      "grid_template_areas": null,
      "grid_template_columns": null,
      "grid_template_rows": null,
      "height": null,
      "justify_content": null,
      "justify_items": null,
      "left": null,
      "margin": null,
      "max_height": null,
      "max_width": null,
      "min_height": null,
      "min_width": null,
      "object_fit": null,
      "object_position": null,
      "order": null,
      "overflow": null,
      "overflow_x": null,
      "overflow_y": null,
      "padding": null,
      "right": null,
      "top": null,
      "visibility": null,
      "width": null
     }
    },
    "a6ba462c54924647b048ef195370f0b8": {
     "model_module": "@jupyter-widgets/controls",
     "model_module_version": "1.5.0",
     "model_name": "HTMLModel",
     "state": {
      "_dom_classes": [],
      "_model_module": "@jupyter-widgets/controls",
      "_model_module_version": "1.5.0",
      "_model_name": "HTMLModel",
      "_view_count": null,
      "_view_module": "@jupyter-widgets/controls",
      "_view_module_version": "1.5.0",
      "_view_name": "HTMLView",
      "description": "",
      "description_tooltip": null,
      "layout": "IPY_MODEL_8a19e6c58b7d4830b9edbf3675f87ad1",
      "placeholder": "​",
      "style": "IPY_MODEL_07b5e7ea11844e24ab507e6445d1c86e",
      "value": "Downloading (…)lve/main/config.json: 100%"
     }
    },
    "a7b844e958f24013b6c0cc69b3c682de": {
     "model_module": "@jupyter-widgets/controls",
     "model_module_version": "1.5.0",
     "model_name": "HTMLModel",
     "state": {
      "_dom_classes": [],
      "_model_module": "@jupyter-widgets/controls",
      "_model_module_version": "1.5.0",
      "_model_name": "HTMLModel",
      "_view_count": null,
      "_view_module": "@jupyter-widgets/controls",
      "_view_module_version": "1.5.0",
      "_view_name": "HTMLView",
      "description": "",
      "description_tooltip": null,
      "layout": "IPY_MODEL_7eeb1801ec9e4bc09552ca33b843c997",
      "placeholder": "​",
      "style": "IPY_MODEL_b90cdf56afe7444fb56b74ff3d37c284",
      "value": " 174/174 [00:00&lt;00:00, 6.06kB/s]"
     }
    },
    "abd56a2a05c947ebafbebeb4f1d1d4b7": {
     "model_module": "@jupyter-widgets/controls",
     "model_module_version": "1.5.0",
     "model_name": "HBoxModel",
     "state": {
      "_dom_classes": [],
      "_model_module": "@jupyter-widgets/controls",
      "_model_module_version": "1.5.0",
      "_model_name": "HBoxModel",
      "_view_count": null,
      "_view_module": "@jupyter-widgets/controls",
      "_view_module_version": "1.5.0",
      "_view_name": "HBoxView",
      "box_style": "",
      "children": [
       "IPY_MODEL_21ffe2b41c144eceb81731a38813eca3",
       "IPY_MODEL_babdc5900b324af9844159094a02ed22",
       "IPY_MODEL_a7b844e958f24013b6c0cc69b3c682de"
      ],
      "layout": "IPY_MODEL_ffac9b24f812471e9a2f10af71469b0c"
     }
    },
    "acc047730c16410fa50ed0c1a386875f": {
     "model_module": "@jupyter-widgets/controls",
     "model_module_version": "1.5.0",
     "model_name": "HTMLModel",
     "state": {
      "_dom_classes": [],
      "_model_module": "@jupyter-widgets/controls",
      "_model_module_version": "1.5.0",
      "_model_name": "HTMLModel",
      "_view_count": null,
      "_view_module": "@jupyter-widgets/controls",
      "_view_module_version": "1.5.0",
      "_view_name": "HTMLView",
      "description": "",
      "description_tooltip": null,
      "layout": "IPY_MODEL_aef28af570ed49c3b6dcf25ce05c6983",
      "placeholder": "​",
      "style": "IPY_MODEL_e94e2c24f59f417fa2f2b959edc4be8a",
      "value": " 438M/438M [00:01&lt;00:00, 369MB/s]"
     }
    },
    "aef28af570ed49c3b6dcf25ce05c6983": {
     "model_module": "@jupyter-widgets/base",
     "model_module_version": "1.2.0",
     "model_name": "LayoutModel",
     "state": {
      "_model_module": "@jupyter-widgets/base",
      "_model_module_version": "1.2.0",
      "_model_name": "LayoutModel",
      "_view_count": null,
      "_view_module": "@jupyter-widgets/base",
      "_view_module_version": "1.2.0",
      "_view_name": "LayoutView",
      "align_content": null,
      "align_items": null,
      "align_self": null,
      "border": null,
      "bottom": null,
      "display": null,
      "flex": null,
      "flex_flow": null,
      "grid_area": null,
      "grid_auto_columns": null,
      "grid_auto_flow": null,
      "grid_auto_rows": null,
      "grid_column": null,
      "grid_gap": null,
      "grid_row": null,
      "grid_template_areas": null,
      "grid_template_columns": null,
      "grid_template_rows": null,
      "height": null,
      "justify_content": null,
      "justify_items": null,
      "left": null,
      "margin": null,
      "max_height": null,
      "max_width": null,
      "min_height": null,
      "min_width": null,
      "object_fit": null,
      "object_position": null,
      "order": null,
      "overflow": null,
      "overflow_x": null,
      "overflow_y": null,
      "padding": null,
      "right": null,
      "top": null,
      "visibility": null,
      "width": null
     }
    },
    "b072e7b6353944c692f68ac4794f0ab3": {
     "model_module": "@jupyter-widgets/controls",
     "model_module_version": "1.5.0",
     "model_name": "HTMLModel",
     "state": {
      "_dom_classes": [],
      "_model_module": "@jupyter-widgets/controls",
      "_model_module_version": "1.5.0",
      "_model_name": "HTMLModel",
      "_view_count": null,
      "_view_module": "@jupyter-widgets/controls",
      "_view_module_version": "1.5.0",
      "_view_name": "HTMLView",
      "description": "",
      "description_tooltip": null,
      "layout": "IPY_MODEL_12a1ea5d07654b3f97165142ffe7edb7",
      "placeholder": "​",
      "style": "IPY_MODEL_15979ba5de43423b976c528b6c7c6411",
      "value": " 6/6 [16:01&lt;00:00, 157.88s/it]"
     }
    },
    "b7c79e08b2c54edfb57d576f12f5fece": {
     "model_module": "@jupyter-widgets/base",
     "model_module_version": "1.2.0",
     "model_name": "LayoutModel",
     "state": {
      "_model_module": "@jupyter-widgets/base",
      "_model_module_version": "1.2.0",
      "_model_name": "LayoutModel",
      "_view_count": null,
      "_view_module": "@jupyter-widgets/base",
      "_view_module_version": "1.2.0",
      "_view_name": "LayoutView",
      "align_content": null,
      "align_items": null,
      "align_self": null,
      "border": null,
      "bottom": null,
      "display": null,
      "flex": null,
      "flex_flow": null,
      "grid_area": null,
      "grid_auto_columns": null,
      "grid_auto_flow": null,
      "grid_auto_rows": null,
      "grid_column": null,
      "grid_gap": null,
      "grid_row": null,
      "grid_template_areas": null,
      "grid_template_columns": null,
      "grid_template_rows": null,
      "height": null,
      "justify_content": null,
      "justify_items": null,
      "left": null,
      "margin": null,
      "max_height": null,
      "max_width": null,
      "min_height": null,
      "min_width": null,
      "object_fit": null,
      "object_position": null,
      "order": null,
      "overflow": null,
      "overflow_x": null,
      "overflow_y": null,
      "padding": null,
      "right": null,
      "top": null,
      "visibility": null,
      "width": null
     }
    },
    "b90cdf56afe7444fb56b74ff3d37c284": {
     "model_module": "@jupyter-widgets/controls",
     "model_module_version": "1.5.0",
     "model_name": "DescriptionStyleModel",
     "state": {
      "_model_module": "@jupyter-widgets/controls",
      "_model_module_version": "1.5.0",
      "_model_name": "DescriptionStyleModel",
      "_view_count": null,
      "_view_module": "@jupyter-widgets/base",
      "_view_module_version": "1.2.0",
      "_view_name": "StyleView",
      "description_width": ""
     }
    },
    "babdc5900b324af9844159094a02ed22": {
     "model_module": "@jupyter-widgets/controls",
     "model_module_version": "1.5.0",
     "model_name": "FloatProgressModel",
     "state": {
      "_dom_classes": [],
      "_model_module": "@jupyter-widgets/controls",
      "_model_module_version": "1.5.0",
      "_model_name": "FloatProgressModel",
      "_view_count": null,
      "_view_module": "@jupyter-widgets/controls",
      "_view_module_version": "1.5.0",
      "_view_name": "ProgressView",
      "bar_style": "success",
      "description": "",
      "description_tooltip": null,
      "layout": "IPY_MODEL_e8cd9d0e982348e6afeb6da24adba323",
      "max": 174,
      "min": 0,
      "orientation": "horizontal",
      "style": "IPY_MODEL_ddc58bf3f40e436c91b46d60deea8115",
      "value": 174
     }
    },
    "c11756296812424d9639b894ebf729b6": {
     "model_module": "@jupyter-widgets/base",
     "model_module_version": "1.2.0",
     "model_name": "LayoutModel",
     "state": {
      "_model_module": "@jupyter-widgets/base",
      "_model_module_version": "1.2.0",
      "_model_name": "LayoutModel",
      "_view_count": null,
      "_view_module": "@jupyter-widgets/base",
      "_view_module_version": "1.2.0",
      "_view_name": "LayoutView",
      "align_content": null,
      "align_items": null,
      "align_self": null,
      "border": null,
      "bottom": null,
      "display": null,
      "flex": null,
      "flex_flow": null,
      "grid_area": null,
      "grid_auto_columns": null,
      "grid_auto_flow": null,
      "grid_auto_rows": null,
      "grid_column": null,
      "grid_gap": null,
      "grid_row": null,
      "grid_template_areas": null,
      "grid_template_columns": null,
      "grid_template_rows": null,
      "height": null,
      "justify_content": null,
      "justify_items": null,
      "left": null,
      "margin": null,
      "max_height": null,
      "max_width": null,
      "min_height": null,
      "min_width": null,
      "object_fit": null,
      "object_position": null,
      "order": null,
      "overflow": null,
      "overflow_x": null,
      "overflow_y": null,
      "padding": null,
      "right": null,
      "top": null,
      "visibility": null,
      "width": null
     }
    },
    "c14e6e50a9fc4b698b6a27770618269c": {
     "model_module": "@jupyter-widgets/controls",
     "model_module_version": "1.5.0",
     "model_name": "HBoxModel",
     "state": {
      "_dom_classes": [],
      "_model_module": "@jupyter-widgets/controls",
      "_model_module_version": "1.5.0",
      "_model_name": "HBoxModel",
      "_view_count": null,
      "_view_module": "@jupyter-widgets/controls",
      "_view_module_version": "1.5.0",
      "_view_name": "HBoxView",
      "box_style": "",
      "children": [
       "IPY_MODEL_099e5394e746429595fa3712c60ffe0a",
       "IPY_MODEL_09b177d16f0940bc99f3558e0b809ac5",
       "IPY_MODEL_acc047730c16410fa50ed0c1a386875f"
      ],
      "layout": "IPY_MODEL_1552f41f632441f18cdc912958093419"
     }
    },
    "c4ca4e39f2164074b2fbb95e2599b9a8": {
     "model_module": "@jupyter-widgets/controls",
     "model_module_version": "1.5.0",
     "model_name": "DescriptionStyleModel",
     "state": {
      "_model_module": "@jupyter-widgets/controls",
      "_model_module_version": "1.5.0",
      "_model_name": "DescriptionStyleModel",
      "_view_count": null,
      "_view_module": "@jupyter-widgets/base",
      "_view_module_version": "1.2.0",
      "_view_name": "StyleView",
      "description_width": ""
     }
    },
    "cb95c3f1c8b54390bf7762aa27b24c3b": {
     "model_module": "@jupyter-widgets/controls",
     "model_module_version": "1.5.0",
     "model_name": "DescriptionStyleModel",
     "state": {
      "_model_module": "@jupyter-widgets/controls",
      "_model_module_version": "1.5.0",
      "_model_name": "DescriptionStyleModel",
      "_view_count": null,
      "_view_module": "@jupyter-widgets/base",
      "_view_module_version": "1.2.0",
      "_view_name": "StyleView",
      "description_width": ""
     }
    },
    "cfdb14b352b349a5b4b0b4a6b63139ae": {
     "model_module": "@jupyter-widgets/controls",
     "model_module_version": "1.5.0",
     "model_name": "ProgressStyleModel",
     "state": {
      "_model_module": "@jupyter-widgets/controls",
      "_model_module_version": "1.5.0",
      "_model_name": "ProgressStyleModel",
      "_view_count": null,
      "_view_module": "@jupyter-widgets/base",
      "_view_module_version": "1.2.0",
      "_view_name": "StyleView",
      "bar_color": null,
      "description_width": ""
     }
    },
    "d678e7e16beb4889abffabdb5bf2239e": {
     "model_module": "@jupyter-widgets/base",
     "model_module_version": "1.2.0",
     "model_name": "LayoutModel",
     "state": {
      "_model_module": "@jupyter-widgets/base",
      "_model_module_version": "1.2.0",
      "_model_name": "LayoutModel",
      "_view_count": null,
      "_view_module": "@jupyter-widgets/base",
      "_view_module_version": "1.2.0",
      "_view_name": "LayoutView",
      "align_content": null,
      "align_items": null,
      "align_self": null,
      "border": null,
      "bottom": null,
      "display": null,
      "flex": null,
      "flex_flow": null,
      "grid_area": null,
      "grid_auto_columns": null,
      "grid_auto_flow": null,
      "grid_auto_rows": null,
      "grid_column": null,
      "grid_gap": null,
      "grid_row": null,
      "grid_template_areas": null,
      "grid_template_columns": null,
      "grid_template_rows": null,
      "height": null,
      "justify_content": null,
      "justify_items": null,
      "left": null,
      "margin": null,
      "max_height": null,
      "max_width": null,
      "min_height": null,
      "min_width": null,
      "object_fit": null,
      "object_position": null,
      "order": null,
      "overflow": null,
      "overflow_x": null,
      "overflow_y": null,
      "padding": null,
      "right": null,
      "top": null,
      "visibility": null,
      "width": null
     }
    },
    "ddc58bf3f40e436c91b46d60deea8115": {
     "model_module": "@jupyter-widgets/controls",
     "model_module_version": "1.5.0",
     "model_name": "ProgressStyleModel",
     "state": {
      "_model_module": "@jupyter-widgets/controls",
      "_model_module_version": "1.5.0",
      "_model_name": "ProgressStyleModel",
      "_view_count": null,
      "_view_module": "@jupyter-widgets/base",
      "_view_module_version": "1.2.0",
      "_view_name": "StyleView",
      "bar_color": null,
      "description_width": ""
     }
    },
    "df40cfbac2394a78952ab50363b1935c": {
     "model_module": "@jupyter-widgets/base",
     "model_module_version": "1.2.0",
     "model_name": "LayoutModel",
     "state": {
      "_model_module": "@jupyter-widgets/base",
      "_model_module_version": "1.2.0",
      "_model_name": "LayoutModel",
      "_view_count": null,
      "_view_module": "@jupyter-widgets/base",
      "_view_module_version": "1.2.0",
      "_view_name": "LayoutView",
      "align_content": null,
      "align_items": null,
      "align_self": null,
      "border": null,
      "bottom": null,
      "display": null,
      "flex": null,
      "flex_flow": null,
      "grid_area": null,
      "grid_auto_columns": null,
      "grid_auto_flow": null,
      "grid_auto_rows": null,
      "grid_column": null,
      "grid_gap": null,
      "grid_row": null,
      "grid_template_areas": null,
      "grid_template_columns": null,
      "grid_template_rows": null,
      "height": null,
      "justify_content": null,
      "justify_items": null,
      "left": null,
      "margin": null,
      "max_height": null,
      "max_width": null,
      "min_height": null,
      "min_width": null,
      "object_fit": null,
      "object_position": null,
      "order": null,
      "overflow": null,
      "overflow_x": null,
      "overflow_y": null,
      "padding": null,
      "right": null,
      "top": null,
      "visibility": null,
      "width": null
     }
    },
    "e02b96d78b0c4e27bfc52f12320576f6": {
     "model_module": "@jupyter-widgets/base",
     "model_module_version": "1.2.0",
     "model_name": "LayoutModel",
     "state": {
      "_model_module": "@jupyter-widgets/base",
      "_model_module_version": "1.2.0",
      "_model_name": "LayoutModel",
      "_view_count": null,
      "_view_module": "@jupyter-widgets/base",
      "_view_module_version": "1.2.0",
      "_view_name": "LayoutView",
      "align_content": null,
      "align_items": null,
      "align_self": null,
      "border": null,
      "bottom": null,
      "display": null,
      "flex": null,
      "flex_flow": null,
      "grid_area": null,
      "grid_auto_columns": null,
      "grid_auto_flow": null,
      "grid_auto_rows": null,
      "grid_column": null,
      "grid_gap": null,
      "grid_row": null,
      "grid_template_areas": null,
      "grid_template_columns": null,
      "grid_template_rows": null,
      "height": null,
      "justify_content": null,
      "justify_items": null,
      "left": null,
      "margin": null,
      "max_height": null,
      "max_width": null,
      "min_height": null,
      "min_width": null,
      "object_fit": null,
      "object_position": null,
      "order": null,
      "overflow": null,
      "overflow_x": null,
      "overflow_y": null,
      "padding": null,
      "right": null,
      "top": null,
      "visibility": null,
      "width": null
     }
    },
    "e2015b2d5e76423b988fb5a9a398a855": {
     "model_module": "@jupyter-widgets/controls",
     "model_module_version": "1.5.0",
     "model_name": "DescriptionStyleModel",
     "state": {
      "_model_module": "@jupyter-widgets/controls",
      "_model_module_version": "1.5.0",
      "_model_name": "DescriptionStyleModel",
      "_view_count": null,
      "_view_module": "@jupyter-widgets/base",
      "_view_module_version": "1.2.0",
      "_view_name": "StyleView",
      "description_width": ""
     }
    },
    "e8cd9d0e982348e6afeb6da24adba323": {
     "model_module": "@jupyter-widgets/base",
     "model_module_version": "1.2.0",
     "model_name": "LayoutModel",
     "state": {
      "_model_module": "@jupyter-widgets/base",
      "_model_module_version": "1.2.0",
      "_model_name": "LayoutModel",
      "_view_count": null,
      "_view_module": "@jupyter-widgets/base",
      "_view_module_version": "1.2.0",
      "_view_name": "LayoutView",
      "align_content": null,
      "align_items": null,
      "align_self": null,
      "border": null,
      "bottom": null,
      "display": null,
      "flex": null,
      "flex_flow": null,
      "grid_area": null,
      "grid_auto_columns": null,
      "grid_auto_flow": null,
      "grid_auto_rows": null,
      "grid_column": null,
      "grid_gap": null,
      "grid_row": null,
      "grid_template_areas": null,
      "grid_template_columns": null,
      "grid_template_rows": null,
      "height": null,
      "justify_content": null,
      "justify_items": null,
      "left": null,
      "margin": null,
      "max_height": null,
      "max_width": null,
      "min_height": null,
      "min_width": null,
      "object_fit": null,
      "object_position": null,
      "order": null,
      "overflow": null,
      "overflow_x": null,
      "overflow_y": null,
      "padding": null,
      "right": null,
      "top": null,
      "visibility": null,
      "width": null
     }
    },
    "e94e2c24f59f417fa2f2b959edc4be8a": {
     "model_module": "@jupyter-widgets/controls",
     "model_module_version": "1.5.0",
     "model_name": "DescriptionStyleModel",
     "state": {
      "_model_module": "@jupyter-widgets/controls",
      "_model_module_version": "1.5.0",
      "_model_name": "DescriptionStyleModel",
      "_view_count": null,
      "_view_module": "@jupyter-widgets/base",
      "_view_module_version": "1.2.0",
      "_view_name": "StyleView",
      "description_width": ""
     }
    },
    "ebf02003f899469fa1f3c58e8bfb8428": {
     "model_module": "@jupyter-widgets/controls",
     "model_module_version": "1.5.0",
     "model_name": "HTMLModel",
     "state": {
      "_dom_classes": [],
      "_model_module": "@jupyter-widgets/controls",
      "_model_module_version": "1.5.0",
      "_model_name": "HTMLModel",
      "_view_count": null,
      "_view_module": "@jupyter-widgets/controls",
      "_view_module_version": "1.5.0",
      "_view_name": "HTMLView",
      "description": "",
      "description_tooltip": null,
      "layout": "IPY_MODEL_98d2ad8b48f44b638bb4581f21364393",
      "placeholder": "​",
      "style": "IPY_MODEL_cb95c3f1c8b54390bf7762aa27b24c3b",
      "value": "Downloading (…)solve/main/vocab.txt: 100%"
     }
    },
    "edee716348564e3683896dc5e7979018": {
     "model_module": "@jupyter-widgets/base",
     "model_module_version": "1.2.0",
     "model_name": "LayoutModel",
     "state": {
      "_model_module": "@jupyter-widgets/base",
      "_model_module_version": "1.2.0",
      "_model_name": "LayoutModel",
      "_view_count": null,
      "_view_module": "@jupyter-widgets/base",
      "_view_module_version": "1.2.0",
      "_view_name": "LayoutView",
      "align_content": null,
      "align_items": null,
      "align_self": null,
      "border": null,
      "bottom": null,
      "display": null,
      "flex": null,
      "flex_flow": null,
      "grid_area": null,
      "grid_auto_columns": null,
      "grid_auto_flow": null,
      "grid_auto_rows": null,
      "grid_column": null,
      "grid_gap": null,
      "grid_row": null,
      "grid_template_areas": null,
      "grid_template_columns": null,
      "grid_template_rows": null,
      "height": null,
      "justify_content": null,
      "justify_items": null,
      "left": null,
      "margin": null,
      "max_height": null,
      "max_width": null,
      "min_height": null,
      "min_width": null,
      "object_fit": null,
      "object_position": null,
      "order": null,
      "overflow": null,
      "overflow_x": null,
      "overflow_y": null,
      "padding": null,
      "right": null,
      "top": null,
      "visibility": null,
      "width": null
     }
    },
    "ee7ac2349f164ba1af34f3aba322637d": {
     "model_module": "@jupyter-widgets/base",
     "model_module_version": "1.2.0",
     "model_name": "LayoutModel",
     "state": {
      "_model_module": "@jupyter-widgets/base",
      "_model_module_version": "1.2.0",
      "_model_name": "LayoutModel",
      "_view_count": null,
      "_view_module": "@jupyter-widgets/base",
      "_view_module_version": "1.2.0",
      "_view_name": "LayoutView",
      "align_content": null,
      "align_items": null,
      "align_self": null,
      "border": null,
      "bottom": null,
      "display": null,
      "flex": null,
      "flex_flow": null,
      "grid_area": null,
      "grid_auto_columns": null,
      "grid_auto_flow": null,
      "grid_auto_rows": null,
      "grid_column": null,
      "grid_gap": null,
      "grid_row": null,
      "grid_template_areas": null,
      "grid_template_columns": null,
      "grid_template_rows": null,
      "height": null,
      "justify_content": null,
      "justify_items": null,
      "left": null,
      "margin": null,
      "max_height": null,
      "max_width": null,
      "min_height": null,
      "min_width": null,
      "object_fit": null,
      "object_position": null,
      "order": null,
      "overflow": null,
      "overflow_x": null,
      "overflow_y": null,
      "padding": null,
      "right": null,
      "top": null,
      "visibility": null,
      "width": null
     }
    },
    "f7710df22fa14f67a80d2a28bbffa109": {
     "model_module": "@jupyter-widgets/controls",
     "model_module_version": "1.5.0",
     "model_name": "FloatProgressModel",
     "state": {
      "_dom_classes": [],
      "_model_module": "@jupyter-widgets/controls",
      "_model_module_version": "1.5.0",
      "_model_name": "FloatProgressModel",
      "_view_count": null,
      "_view_module": "@jupyter-widgets/controls",
      "_view_module_version": "1.5.0",
      "_view_name": "ProgressView",
      "bar_style": "success",
      "description": "",
      "description_tooltip": null,
      "layout": "IPY_MODEL_c11756296812424d9639b894ebf729b6",
      "max": 811,
      "min": 0,
      "orientation": "horizontal",
      "style": "IPY_MODEL_cfdb14b352b349a5b4b0b4a6b63139ae",
      "value": 811
     }
    },
    "f8dc8f59f0fa4566820ff9458b1fb1ea": {
     "model_module": "@jupyter-widgets/controls",
     "model_module_version": "1.5.0",
     "model_name": "HBoxModel",
     "state": {
      "_dom_classes": [],
      "_model_module": "@jupyter-widgets/controls",
      "_model_module_version": "1.5.0",
      "_model_name": "HBoxModel",
      "_view_count": null,
      "_view_module": "@jupyter-widgets/controls",
      "_view_module_version": "1.5.0",
      "_view_name": "HBoxView",
      "box_style": "",
      "children": [
       "IPY_MODEL_ebf02003f899469fa1f3c58e8bfb8428",
       "IPY_MODEL_35218a2cc3fb4723a888f1b41e61be07",
       "IPY_MODEL_0d89258f90b643188184451751a84e1e"
      ],
      "layout": "IPY_MODEL_53cc75a7754647a3abeb6bf030819098"
     }
    },
    "ffac9b24f812471e9a2f10af71469b0c": {
     "model_module": "@jupyter-widgets/base",
     "model_module_version": "1.2.0",
     "model_name": "LayoutModel",
     "state": {
      "_model_module": "@jupyter-widgets/base",
      "_model_module_version": "1.2.0",
      "_model_name": "LayoutModel",
      "_view_count": null,
      "_view_module": "@jupyter-widgets/base",
      "_view_module_version": "1.2.0",
      "_view_name": "LayoutView",
      "align_content": null,
      "align_items": null,
      "align_self": null,
      "border": null,
      "bottom": null,
      "display": null,
      "flex": null,
      "flex_flow": null,
      "grid_area": null,
      "grid_auto_columns": null,
      "grid_auto_flow": null,
      "grid_auto_rows": null,
      "grid_column": null,
      "grid_gap": null,
      "grid_row": null,
      "grid_template_areas": null,
      "grid_template_columns": null,
      "grid_template_rows": null,
      "height": null,
      "justify_content": null,
      "justify_items": null,
      "left": null,
      "margin": null,
      "max_height": null,
      "max_width": null,
      "min_height": null,
      "min_width": null,
      "object_fit": null,
      "object_position": null,
      "order": null,
      "overflow": null,
      "overflow_x": null,
      "overflow_y": null,
      "padding": null,
      "right": null,
      "top": null,
      "visibility": null,
      "width": null
     }
    }
   }
  }
 },
 "nbformat": 4,
 "nbformat_minor": 1
}
